{
 "cells": [
  {
   "cell_type": "markdown",
   "id": "c938fee7",
   "metadata": {},
   "source": [
    "# DataRobot API Starter Guide"
   ]
  },
  {
   "cell_type": "markdown",
   "id": "968d7ade",
   "metadata": {},
   "source": [
    "### Configure DataRobot env"
   ]
  },
  {
   "cell_type": "code",
   "execution_count": 1,
   "id": "5d72e46d",
   "metadata": {},
   "outputs": [
    {
     "data": {
      "text/plain": [
       "<datarobot.rest.RESTClientObject at 0x1689201d7c0>"
      ]
     },
     "execution_count": 1,
     "metadata": {},
     "output_type": "execute_result"
    }
   ],
   "source": [
    "import datarobot as dr\n",
    "dr.Client(config_path = \"./drconfig.yaml\")"
   ]
  },
  {
   "cell_type": "markdown",
   "id": "ffa87356",
   "metadata": {},
   "source": [
    "###  Create a Dataset object and a Project"
   ]
  },
  {
   "cell_type": "code",
   "execution_count": 2,
   "id": "d63767b5",
   "metadata": {},
   "outputs": [],
   "source": [
    "# Set the location of the dataset\n",
    "training_dataset_file_path = './datasets/auto-mpg.csv'\n",
    "test_dataset_file_path = './datasets/auto-mpg-test.csv'\n",
    "\n",
    "# Load the dataset\n",
    "train_dataset = dr.Dataset.create_from_file(training_dataset_file_path)\n",
    "\n",
    "# Create a new project based on the dataset\n",
    "project = dr.Project.create_from_dataset(train_dataset.id, project_name=\"Auto MPG DR-Client\")"
   ]
  },
  {
   "cell_type": "markdown",
   "id": "e56628ba",
   "metadata": {},
   "source": [
    "### Training models using AutoPilot"
   ]
  },
  {
   "cell_type": "code",
   "execution_count": 3,
   "id": "0e10cbca",
   "metadata": {},
   "outputs": [
    {
     "name": "stdout",
     "output_type": "stream",
     "text": [
      "In progress: 2, queued: 6 (waited: 0s)\n",
      "In progress: 2, queued: 6 (waited: 1s)\n",
      "In progress: 2, queued: 6 (waited: 3s)\n",
      "In progress: 2, queued: 6 (waited: 5s)\n",
      "In progress: 2, queued: 6 (waited: 7s)\n",
      "In progress: 3, queued: 5 (waited: 9s)\n",
      "In progress: 3, queued: 5 (waited: 14s)\n",
      "In progress: 3, queued: 4 (waited: 21s)\n",
      "In progress: 2, queued: 4 (waited: 35s)\n",
      "In progress: 3, queued: 1 (waited: 57s)\n",
      "In progress: 4, queued: 0 (waited: 78s)\n",
      "In progress: 0, queued: 16 (waited: 99s)\n",
      "In progress: 0, queued: 14 (waited: 120s)\n",
      "In progress: 2, queued: 10 (waited: 141s)\n",
      "In progress: 3, queued: 7 (waited: 163s)\n",
      "In progress: 3, queued: 4 (waited: 184s)\n",
      "In progress: 2, queued: 2 (waited: 205s)\n",
      "In progress: 1, queued: 0 (waited: 227s)\n",
      "In progress: 0, queued: 0 (waited: 248s)\n",
      "In progress: 0, queued: 0 (waited: 269s)\n",
      "In progress: 0, queued: 0 (waited: 290s)\n",
      "In progress: 1, queued: 0 (waited: 311s)\n",
      "In progress: 0, queued: 0 (waited: 333s)\n",
      "In progress: 0, queued: 0 (waited: 354s)\n",
      "In progress: 0, queued: 0 (waited: 376s)\n",
      "In progress: 0, queued: 0 (waited: 397s)\n"
     ]
    },
    {
     "name": "stderr",
     "output_type": "stream",
     "text": [
      "c:\\Users\\ROG\\AppData\\Local\\Programs\\Python\\Python312\\Lib\\site-packages\\datarobot\\models\\project.py:2176: DataRobotDeprecationWarning: `get_models` has been marked for change in `3.4`, will be changed in `4.0`. In 4.0, the flag `use_new_models_retrieval` will be always `True`.\n",
      "         Fewer attributes will be returned in the response, see the docstring for more details. \n",
      "  models = self.get_models()\n"
     ]
    }
   ],
   "source": [
    "from datarobot import AUTOPILOT_MODE\n",
    "\n",
    "# Set the project's target and initiate Autopilot (runs in Quick mode unless a different mode is specified)\n",
    "project.analyze_and_model(target='mpg', worker_count=-1, mode=AUTOPILOT_MODE.QUICK)\n",
    "\n",
    "# Open the project's Leaderboard to monitor the progress in UI.\n",
    "project.open_in_browser()\n",
    "\n",
    "# Wait for the model creation to finish\n",
    "project.wait_for_autopilot()\n",
    "\n",
    "model = project.get_top_model()"
   ]
  },
  {
   "cell_type": "markdown",
   "id": "5bf285b9",
   "metadata": {},
   "source": [
    "### Predicting data for the test set"
   ]
  },
  {
   "cell_type": "code",
   "execution_count": 4,
   "id": "728daf5b",
   "metadata": {},
   "outputs": [
    {
     "data": {
      "text/html": [
       "<div>\n",
       "<style scoped>\n",
       "    .dataframe tbody tr th:only-of-type {\n",
       "        vertical-align: middle;\n",
       "    }\n",
       "\n",
       "    .dataframe tbody tr th {\n",
       "        vertical-align: top;\n",
       "    }\n",
       "\n",
       "    .dataframe thead th {\n",
       "        text-align: right;\n",
       "    }\n",
       "</style>\n",
       "<table border=\"1\" class=\"dataframe\">\n",
       "  <thead>\n",
       "    <tr style=\"text-align: right;\">\n",
       "      <th></th>\n",
       "      <th>row_id</th>\n",
       "      <th>prediction</th>\n",
       "    </tr>\n",
       "  </thead>\n",
       "  <tbody>\n",
       "    <tr>\n",
       "      <th>0</th>\n",
       "      <td>0</td>\n",
       "      <td>29.752946</td>\n",
       "    </tr>\n",
       "    <tr>\n",
       "      <th>1</th>\n",
       "      <td>1</td>\n",
       "      <td>29.752946</td>\n",
       "    </tr>\n",
       "  </tbody>\n",
       "</table>\n",
       "</div>"
      ],
      "text/plain": [
       "   row_id  prediction\n",
       "0       0   29.752946\n",
       "1       1   29.752946"
      ]
     },
     "execution_count": 4,
     "metadata": {},
     "output_type": "execute_result"
    }
   ],
   "source": [
    "# Test predictions on new data\n",
    "prediction_data = project.upload_dataset(test_dataset_file_path)  # Additional code to upload test data\n",
    "predict_job = model.request_predictions(prediction_data.id)  # Directly add test data here instead of the ID of the uploaded dataset\n",
    "predictions = predict_job.get_result_when_complete()\n",
    "predictions.head()"
   ]
  },
  {
   "cell_type": "code",
   "execution_count": 5,
   "id": "f9233741",
   "metadata": {},
   "outputs": [
    {
     "data": {
      "text/plain": [
       "[Blueprint(Elastic-Net Regressor (mixing alpha=0.5 / Least-Squares Loss)),\n",
       " Blueprint(Nystroem Kernel SVM Regressor),\n",
       " Blueprint(eXtreme Gradient Boosted Trees Regressor (Tweedie Loss: 1.5)),\n",
       " Blueprint(Keras Slim Residual Neural Network Regressor using Adaptive Training Schedule (1 Layer: 64 Units)),\n",
       " Blueprint(Nystroem Kernel SVM Regressor (Tweedie Deviance)),\n",
       " Blueprint(Eureqa Regressor (Instant Search: 40 Generations)),\n",
       " Blueprint(Lasso Regressor),\n",
       " Blueprint(Ridge Regressor),\n",
       " Blueprint(Nystroem Kernel SVM Regressor (Gamma Deviance)),\n",
       " Blueprint(Elastic-Net Regressor (L2 / Poisson Deviance)),\n",
       " Blueprint(Keras Residual AutoInt Regressor using Training Schedule (2 Attention Layers with 2 Heads, 2 Layers: 96, 96 Units)),\n",
       " Blueprint(Keras Residual Cross Network Regressor using Training Schedule (3 Cross Layers, 4 Layers: 96, 96, 72, 72 Units)),\n",
       " Blueprint(Linear Regression),\n",
       " Blueprint(Gradient Boosted Greedy Trees Regressor (Least-Squares Loss)),\n",
       " Blueprint(Gradient Boosted Trees Regressor (Least-Squares Loss)),\n",
       " Blueprint(Generalized Additive Model),\n",
       " Blueprint(Dropout Additive Regression Trees Regressor  (15 leaves)),\n",
       " Blueprint(Keras Deep Residual Neural Network Regressor using Training Schedule (3 Layers: 512, 64, 64 Units)),\n",
       " Blueprint(eXtreme Gradient Boosted Trees Regressor with Early Stopping (Poisson Loss)),\n",
       " Blueprint(Elastic-Net Regressor (L2 / Tweedie Deviance)),\n",
       " Blueprint(Elastic-Net Regressor (mixing alpha=0.5 / Least-Squares Loss)),\n",
       " Blueprint(Support Vector Regressor (Linear Kernel)),\n",
       " Blueprint(Support Vector Regressor (Radial Kernel)),\n",
       " Blueprint(RuleFit Regressor),\n",
       " Blueprint(Ridge Regressor),\n",
       " Blueprint(Mean Response Regressor),\n",
       " Blueprint(Elastic-Net Regressor (L2 / Gamma Deviance)),\n",
       " Blueprint(Elastic-Net Regressor (mixing alpha=0.5 / Least-Squares Loss) with K-Means Distance Features),\n",
       " Blueprint(Nystroem Kernel SVM Regressor),\n",
       " Blueprint(Elastic-Net Regressor (mixing alpha=0.5 / Least-Squares Loss)),\n",
       " Blueprint(Lasso Regressor),\n",
       " Blueprint(Keras Slim Residual Neural Network Regressor using Adaptive Training Schedule (1 Layer: 64 Units)),\n",
       " Blueprint(Light Gradient Boosting on ElasticNet Predictions ),\n",
       " Blueprint(RandomForest Regressor),\n",
       " Blueprint(eXtreme Gradient Boosted Trees Regressor with Unsupervised Learning Features),\n",
       " Blueprint(Eureqa Generalized Additive Model (1000 Generations)),\n",
       " Blueprint(Auto-tuned Stochastic Gradient Descent Regression),\n",
       " Blueprint(eXtreme Gradient Boosted Trees Regressor with Early Stopping),\n",
       " Blueprint(eXtreme Gradient Boosted Trees Regressor),\n",
       " Blueprint(Keras Slim Residual Neural Network Regressor using Training Schedule (1 Layer: 64 Units)),\n",
       " Blueprint(Auto-tuned K-Nearest Neighbors Regressor (Euclidean Distance)),\n",
       " Blueprint(Ridge Regression),\n",
       " Blueprint(Decision Tree Regressor),\n",
       " Blueprint(eXtreme Gradient Boosted Trees Regressor with Early Stopping - Forest (10x)),\n",
       " Blueprint(ExtraTrees Regressor),\n",
       " Blueprint(Eureqa Regressor (Quick Search: 250 Generations)),\n",
       " Blueprint(LightGBM Random Forest Regressor),\n",
       " Blueprint(Keras Deep Residual Neural Network Regressor using Training Schedule (2 Layers: 512, 512 Units)),\n",
       " Blueprint(RandomForest Regressor),\n",
       " Blueprint(RandomForest Regressor),\n",
       " Blueprint(Ridge Regressor),\n",
       " Blueprint(Keras Wide Residual Neural Network Regressor using Training Schedule (1 Layer: 1536 Units)),\n",
       " Blueprint(eXtreme Gradient Boosted Trees Regressor (Gamma Loss)),\n",
       " Blueprint(Ridge Regressor),\n",
       " Blueprint(Light Gradient Boosted Trees Regressor  (4 leaves)),\n",
       " Blueprint(eXtreme Gradient Boosted Trees Regressor (learning rate =0.01)),\n",
       " Blueprint(Nystroem Kernel SVM Regressor (Poisson Deviance)),\n",
       " Blueprint(eXtreme Gradient Boosted Trees Regressor (learning rate =0.01)),\n",
       " Blueprint(Generalized Additive2 Model),\n",
       " Blueprint(eXtreme Gradient Boosted Trees Regressor (Poisson Loss)),\n",
       " Blueprint(Keras Deep Self-Normalizing Residual Neural Network Regressor using Training Schedule (3 Layers: 256, 128, 64 Units)),\n",
       " Blueprint(Ridge Regressor),\n",
       " Blueprint(Keras Residual Neural Factorization Machine Regressor using Training Schedule (2 Layers: 96, 96 Units)),\n",
       " Blueprint(Auto-tuned K-Nearest Neighbors Regressor (Euclidean Distance)),\n",
       " Blueprint(Eureqa Generalized Additive Model (10000 Generations)),\n",
       " Blueprint(RandomForest Regressor (Shallow)),\n",
       " Blueprint(Adaboost Regressor),\n",
       " Blueprint(eXtreme Gradient Boosted Trees Regressor (learning rate =0.01)),\n",
       " Blueprint(Ridge Regressor),\n",
       " Blueprint(Ridge Regressor),\n",
       " Blueprint(Gradient Boosted Trees Regressor (Least-Squares Loss)),\n",
       " Blueprint(eXtreme Gradient Boosted Trees Regressor),\n",
       " Blueprint(Eureqa Generalized Additive Model (40 Generations)),\n",
       " Blueprint(Ridge Regressor with Binned numeric features),\n",
       " Blueprint(Eureqa Regressor (Default Search: 3000 Generations))]"
      ]
     },
     "execution_count": 5,
     "metadata": {},
     "output_type": "execute_result"
    }
   ],
   "source": [
    "project.get_blueprints()"
   ]
  },
  {
   "cell_type": "markdown",
   "id": "eecb60d5",
   "metadata": {},
   "source": [
    "### Evaluating metrics for the model"
   ]
  },
  {
   "cell_type": "markdown",
   "id": "c9e72c87",
   "metadata": {},
   "source": [
    "### Deploying the model"
   ]
  },
  {
   "cell_type": "code",
   "execution_count": 6,
   "id": "2f700a0d",
   "metadata": {},
   "outputs": [
    {
     "ename": "IndexError",
     "evalue": "list index out of range",
     "output_type": "error",
     "traceback": [
      "\u001b[1;31m---------------------------------------------------------------------------\u001b[0m",
      "\u001b[1;31mIndexError\u001b[0m                                Traceback (most recent call last)",
      "Cell \u001b[1;32mIn[6], line 7\u001b[0m\n\u001b[0;32m      1\u001b[0m \u001b[38;5;66;03m# Retrieve prediction server id before deploying the model\u001b[39;00m\n\u001b[0;32m      2\u001b[0m prediction_servers \u001b[38;5;241m=\u001b[39m dr\u001b[38;5;241m.\u001b[39mDeployment\u001b[38;5;241m.\u001b[39mlist()\n\u001b[0;32m      4\u001b[0m deployment \u001b[38;5;241m=\u001b[39m dr\u001b[38;5;241m.\u001b[39mDeployment\u001b[38;5;241m.\u001b[39mcreate_from_learning_model(\n\u001b[0;32m      5\u001b[0m     model_id \u001b[38;5;241m=\u001b[39m model\u001b[38;5;241m.\u001b[39mid, label\u001b[38;5;241m=\u001b[39m\u001b[38;5;124m\"\u001b[39m\u001b[38;5;124mMPG Prediction Server\u001b[39m\u001b[38;5;124m\"\u001b[39m,\n\u001b[0;32m      6\u001b[0m     description \u001b[38;5;241m=\u001b[39m \u001b[38;5;124m\"\u001b[39m\u001b[38;5;124mDeployed with DataRobot client\u001b[39m\u001b[38;5;124m\"\u001b[39m,\n\u001b[1;32m----> 7\u001b[0m     default_prediction_server \u001b[38;5;241m=\u001b[39m \u001b[43mprediction_servers\u001b[49m\u001b[43m[\u001b[49m\u001b[38;5;241;43m1\u001b[39;49m\u001b[43m]\u001b[49m\u001b[38;5;241m.\u001b[39mid\n\u001b[0;32m      8\u001b[0m )\n\u001b[0;32m     10\u001b[0m \u001b[38;5;66;03m# View the deployment status\u001b[39;00m\n\u001b[0;32m     11\u001b[0m service_stats \u001b[38;5;241m=\u001b[39m deployment\u001b[38;5;241m.\u001b[39mget_service_stats()\n",
      "\u001b[1;31mIndexError\u001b[0m: list index out of range"
     ]
    }
   ],
   "source": [
    "# Retrieve prediction server id before deploying the model\n",
    "prediction_servers = dr.Deployment.list()\n",
    "\n",
    "deployment = dr.Deployment.create_from_learning_model(\n",
    "    model_id = model.id, label=\"MPG Prediction Server\",\n",
    "    description = \"Deployed with DataRobot client\",\n",
    "    default_prediction_server = prediction_servers[1].id\n",
    ")\n",
    "\n",
    "# View the deployment status\n",
    "service_stats = deployment.get_service_stats()\n",
    "print(service_stats.metrics)"
   ]
  }
 ],
 "metadata": {
  "kernelspec": {
   "display_name": "Python 3",
   "language": "python",
   "name": "python3"
  },
  "language_info": {
   "codemirror_mode": {
    "name": "ipython",
    "version": 3
   },
   "file_extension": ".py",
   "mimetype": "text/x-python",
   "name": "python",
   "nbconvert_exporter": "python",
   "pygments_lexer": "ipython3",
   "version": "3.10.11"
  }
 },
 "nbformat": 4,
 "nbformat_minor": 5
}
