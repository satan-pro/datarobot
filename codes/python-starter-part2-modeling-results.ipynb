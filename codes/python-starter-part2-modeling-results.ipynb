{
 "cells": [
  {
   "cell_type": "markdown",
   "metadata": {},
   "source": [
    "![title](datarobot.jpg)"
   ]
  },
  {
   "cell_type": "markdown",
   "metadata": {
    "tags": []
   },
   "source": [
    "# DataRobot Python API Starter Activity \n",
    "# Part 2 — Interpret Modeling Results"
   ]
  },
  {
   "cell_type": "markdown",
   "metadata": {
    "tags": []
   },
   "source": [
    "## Pre-requisites\n"
   ]
  },
  {
   "cell_type": "markdown",
   "metadata": {},
   "source": [
    "*Before starting this activity (Part 2), be sure to complete Part 1 (including waiting for Autopilot to complete).*\n",
    "    \n"
   ]
  },
  {
   "cell_type": "markdown",
   "metadata": {},
   "source": [
    "## Part 2 Objectives"
   ]
  },
  {
   "cell_type": "markdown",
   "metadata": {},
   "source": [
    "In Part 2, you will:\n",
    "- Fetch an already existing project and associated model(s)\n",
    "- View model metrics\n",
    "- Get model insights"
   ]
  },
  {
   "cell_type": "markdown",
   "metadata": {},
   "source": [
    "### Activity Goal (a refresher):"
   ]
  },
  {
   "cell_type": "markdown",
   "metadata": {},
   "source": [
    "As a reminder, the goal in this activity is to predict the quality rating for a particular wine based on various characteristics of the wine, such as its acidity and alcohol and sugar content.\n",
    "\n",
    "The wine data comes from the University of California, Irvine Machine Learning Repository: https://archive.ics.uci.edu/ml/datasets/wine+quality. \n",
    "\n",
    "Citation: *P. Cortez, A. Cerdeira, F. Almeida, T. Matos and J. Reis.\n",
    "Modeling wine preferences by data mining from physicochemical properties. In Decision Support Systems, Elsevier, 47(4):547-553, 2009.*"
   ]
  },
  {
   "cell_type": "markdown",
   "metadata": {},
   "source": [
    "---"
   ]
  },
  {
   "cell_type": "markdown",
   "metadata": {
    "tags": []
   },
   "source": [
    "## Notebook setup"
   ]
  },
  {
   "cell_type": "markdown",
   "metadata": {},
   "source": [
    "i.e. steps 1, 2, & 3 from the part 1 notebook"
   ]
  },
  {
   "cell_type": "markdown",
   "metadata": {},
   "source": [
    "#### Jupyter Notebook Tip"
   ]
  },
  {
   "cell_type": "markdown",
   "metadata": {},
   "source": [
    "Before you start running any code, we recommend you enable Jupyter interactive shell feature, which allows you to see all of the output a particular Jupyter cell produces rather than just the last output. This will be particularly helpful as you complete your exercises."
   ]
  },
  {
   "cell_type": "code",
   "execution_count": 1,
   "metadata": {},
   "outputs": [],
   "source": [
    "from IPython.core.interactiveshell import InteractiveShell\n",
    "InteractiveShell.ast_node_interactivity = \"all\""
   ]
  },
  {
   "cell_type": "markdown",
   "metadata": {},
   "source": [
    "#### Import Libraries"
   ]
  },
  {
   "cell_type": "code",
   "execution_count": 2,
   "metadata": {},
   "outputs": [],
   "source": [
    "import pandas as pd\n",
    "import datarobot as dr"
   ]
  },
  {
   "cell_type": "markdown",
   "metadata": {},
   "source": [
    "#### Connect the application or notebook to DataRobot"
   ]
  },
  {
   "cell_type": "markdown",
   "metadata": {},
   "source": [
    "You will need to run the same client setup you did in part 1."
   ]
  },
  {
   "cell_type": "code",
   "execution_count": 3,
   "metadata": {},
   "outputs": [
    {
     "data": {
      "text/plain": [
       "<datarobot.rest.RESTClientObject at 0x11102a810>"
      ]
     },
     "execution_count": 3,
     "metadata": {},
     "output_type": "execute_result"
    }
   ],
   "source": [
    "# Remove or comment out this line if you are using DataRobot Notebooks\n",
    "dr.Client(config_path = 'drconfig.yaml')"
   ]
  },
  {
   "cell_type": "markdown",
   "metadata": {
    "tags": []
   },
   "source": [
    "# Let's start investigating our project and its models"
   ]
  },
  {
   "cell_type": "markdown",
   "metadata": {},
   "source": [
    "When `wait_for_autopilot()` returns, Autopilot has trained an initial set of models in the project. Because you are working in a separate notebook from the one where you started the project, you need to request a reference to the project created from DataRobot.\n"
   ]
  },
  {
   "cell_type": "markdown",
   "metadata": {
    "tags": []
   },
   "source": [
    "## 1. Retrieving a project and its models"
   ]
  },
  {
   "cell_type": "markdown",
   "metadata": {},
   "source": [
    "There are two key ways to access information once modeling has been completed: via  `project` and  `model` objects. </br>\n",
    "`project` and `model` objects can be leveraged to dig deeper, access information, and gain insights. </br>"
   ]
  },
  {
   "cell_type": "markdown",
   "metadata": {},
   "source": [
    "### 1a. Retrieve a project"
   ]
  },
  {
   "cell_type": "markdown",
   "metadata": {},
   "source": [
    "- We will start by using the DataRobot Client API `Project` to retrieve an existing DataRobot project of our choice.\n",
    "\n",
    "- To do this, you will need a Project id.\n",
    "\n",
    "- There are a number of ways to get the id to your project. For example:\n",
    "    - You can go to the DataRobot application UI, open the project, and extract the project ID from the URL. For example:\n",
    "        - `app.datarobot.com/projects/`**`60faf10710c1574209c6ddb0`**`/models`\n",
    "    - You can get a list of all of your projects using `Project.list()` and find the right one by name. Try that now:"
   ]
  },
  {
   "cell_type": "code",
   "execution_count": null,
   "metadata": {
    "collapsed": true,
    "jupyter": {
     "outputs_hidden": true
    },
    "tags": []
   },
   "outputs": [],
   "source": [
    "for p in dr.Project.list():\n",
    "    print (p.id, p.project_name)"
   ]
  },
  {
   "cell_type": "markdown",
   "metadata": {},
   "source": [
    "Using the ID, you can get the right `Project` object."
   ]
  },
  {
   "cell_type": "code",
   "execution_count": 4,
   "metadata": {},
   "outputs": [
    {
     "name": "stdout",
     "output_type": "stream",
     "text": [
      "Project(Python wine quality 2023-12-11)\n"
     ]
    }
   ],
   "source": [
    "projectId = '65774a827fce32b668b7c673' #your-project-id\n",
    "project = dr.Project.get(projectId)\n",
    "print(project)"
   ]
  },
  {
   "cell_type": "markdown",
   "metadata": {},
   "source": [
    "See more about the `Project` class in the docs [here](https://datarobot-public-api-client.readthedocs-hosted.com/en/latest-release/reference/modeling/project.html?highlight=project)"
   ]
  },
  {
   "cell_type": "markdown",
   "metadata": {},
   "source": [
    "### 1b. Retrieve models"
   ]
  },
  {
   "cell_type": "markdown",
   "metadata": {},
   "source": [
    "- A DataRobot Client API `Model` object represents a model calculated by DataRobot within a project.\n",
    "\n",
    "- The `Model` object provides numerous ways to evaluate, interact with and test models.\n",
    "\n",
    "- Models also have associated IDs, so they can be uniquely identified and handled via the API.\n",
    "\n",
    "- See more in the docs [here](https://datarobot-public-api-client.readthedocs-hosted.com/en/latest-release/autodoc/api_reference.html#model)"
   ]
  },
  {
   "cell_type": "markdown",
   "metadata": {},
   "source": [
    "Let's get all the models in the leaderboard of our project that we just fetched:"
   ]
  },
  {
   "cell_type": "code",
   "execution_count": 7,
   "metadata": {},
   "outputs": [
    {
     "name": "stdout",
     "output_type": "stream",
     "text": [
      "65774c39174d4613acef2eb0 RandomForest Regressor\n",
      "65774b0758bfa0dcc1b287f5 RandomForest Regressor\n",
      "65774b0758bfa0dcc1b287f3 Light Gradient Boosted Trees Regressor with Early Stopping\n",
      "65774b0758bfa0dcc1b287f7 eXtreme Gradient Boosted Trees Regressor\n",
      "65774b0758bfa0dcc1b287f4 Light Gradient Boosting on ElasticNet Predictions \n",
      "65774b0758bfa0dcc1b287f6 RuleFit Regressor\n",
      "65774b0758bfa0dcc1b287f2 Generalized Additive2 Model\n",
      "65774b0758bfa0dcc1b287f0 Ridge Regressor\n",
      "65774b0758bfa0dcc1b287f1 Elastic-Net Regressor (mixing alpha=0.5 / Least-Squares Loss)\n"
     ]
    }
   ],
   "source": [
    "models = project.get_models()\n",
    "for m in models:\n",
    "    print(m.id, m.model_type)"
   ]
  },
  {
   "cell_type": "markdown",
   "metadata": {},
   "source": [
    "### 1c. Retrieve the recommended model"
   ]
  },
  {
   "cell_type": "markdown",
   "metadata": {},
   "source": [
    "DataRobot automatically recommends the most accurate model and prepares the model for deployment.</br>\n",
    "</br>\n",
    "See more about the model recommendation process in DataRobot in the docs [here](https://docs.datarobot.com/en/docs/modeling/reference/model-detail/model-rec-process.html)</br>\n",
    "See more about DataRobot's \"prepare for deployment\" in the docs [here](https://docs.datarobot.com/en/docs/modeling/reference/model-detail/model-rec-process.html#prepare-a-model-for-deployment)"
   ]
  },
  {
   "cell_type": "code",
   "execution_count": 8,
   "metadata": {},
   "outputs": [
    {
     "name": "stdout",
     "output_type": "stream",
     "text": [
      "65774c39174d4613acef2eb0 RandomForest Regressor\n"
     ]
    }
   ],
   "source": [
    "# We simply need the project id to retrieve the recommended model with the following function\n",
    "\n",
    "recommendedModel = dr.ModelRecommendation.get(project.id).get_model()\n",
    "print (recommendedModel.id,recommendedModel.model_type)"
   ]
  },
  {
   "cell_type": "markdown",
   "metadata": {
    "tags": []
   },
   "source": [
    "## 2. View metrics for models in the leaderboard"
   ]
  },
  {
   "cell_type": "markdown",
   "metadata": {},
   "source": [
    "If you would like to investigate the various models in the leaderboard and choose your own, rather than simply continuing with the recommended model, the `.metrics()` function would be a good place to start."
   ]
  },
  {
   "cell_type": "markdown",
   "metadata": {},
   "source": [
    "We collected all the model objects from the project into `models`. Let's pick a model at random and take a look at the RMSE across all cross-validation folds using the `.metrics()` function"
   ]
  },
  {
   "cell_type": "code",
   "execution_count": null,
   "metadata": {},
   "outputs": [],
   "source": [
    "# Choose one model from the list of models we gathered\n",
    "model = models[1]\n",
    "\n",
    "# Print the RMSE of that model from across all CV folds\n",
    "model.metrics['RMSE']['crossValidation']"
   ]
  },
  {
   "cell_type": "markdown",
   "metadata": {},
   "source": [
    "#### Now, let's do this for all models in the leaderboard"
   ]
  },
  {
   "cell_type": "markdown",
   "metadata": {},
   "source": [
    "First, we make sure to run all cross-validation metrics calculations for all the models in the leaderboard, if they have not been computed already </br>"
   ]
  },
  {
   "cell_type": "code",
   "execution_count": 9,
   "metadata": {
    "tags": []
   },
   "outputs": [],
   "source": [
    "metric_type = 'RMSE'\n",
    "for m in models:\n",
    "\n",
    "    if m.metrics[metric_type][\"crossValidation\"] == None:\n",
    "        try: \n",
    "            dr.Model.cross_validate(m)\n",
    "            print(f'Computing CV Scores for model {m.model_type} in Project {project.project_name}')\n",
    "            print(' ')\n",
    "        except dr.errors.ClientError:\n",
    "            pass\n",
    "            print(f'All CV Scores have been submitted for scoring for project {project.project_name}')\n",
    "            print(' ')\n",
    "\n",
    "# update the model results\n",
    "models = project.get_models()"
   ]
  },
  {
   "cell_type": "markdown",
   "metadata": {},
   "source": [
    "Next, let's loop through all the models and use some more model attributes to gather information, including cross validation RMSE"
   ]
  },
  {
   "cell_type": "code",
   "execution_count": 10,
   "metadata": {},
   "outputs": [
    {
     "data": {
      "text/html": [
       "<div>\n",
       "<style scoped>\n",
       "    .dataframe tbody tr th:only-of-type {\n",
       "        vertical-align: middle;\n",
       "    }\n",
       "\n",
       "    .dataframe tbody tr th {\n",
       "        vertical-align: top;\n",
       "    }\n",
       "\n",
       "    .dataframe thead th {\n",
       "        text-align: right;\n",
       "    }\n",
       "</style>\n",
       "<table border=\"1\" class=\"dataframe\">\n",
       "  <thead>\n",
       "    <tr style=\"text-align: right;\">\n",
       "      <th></th>\n",
       "      <th>model_type</th>\n",
       "      <th>model_id</th>\n",
       "      <th>sample_pct</th>\n",
       "      <th>featurelist</th>\n",
       "      <th>cross_val_RMSE</th>\n",
       "    </tr>\n",
       "  </thead>\n",
       "  <tbody>\n",
       "    <tr>\n",
       "      <th>0</th>\n",
       "      <td>RandomForest Regressor</td>\n",
       "      <td>65774c39174d4613acef2eb0</td>\n",
       "      <td>100.0000</td>\n",
       "      <td>Informative Features</td>\n",
       "      <td>0.614260</td>\n",
       "    </tr>\n",
       "    <tr>\n",
       "      <th>1</th>\n",
       "      <td>RandomForest Regressor</td>\n",
       "      <td>65774b0758bfa0dcc1b287f5</td>\n",
       "      <td>63.9836</td>\n",
       "      <td>Informative Features</td>\n",
       "      <td>0.629826</td>\n",
       "    </tr>\n",
       "    <tr>\n",
       "      <th>2</th>\n",
       "      <td>Light Gradient Boosted Trees Regressor with Ea...</td>\n",
       "      <td>65774b0758bfa0dcc1b287f3</td>\n",
       "      <td>63.9836</td>\n",
       "      <td>Informative Features</td>\n",
       "      <td>0.647134</td>\n",
       "    </tr>\n",
       "    <tr>\n",
       "      <th>3</th>\n",
       "      <td>eXtreme Gradient Boosted Trees Regressor</td>\n",
       "      <td>65774b0758bfa0dcc1b287f7</td>\n",
       "      <td>63.9836</td>\n",
       "      <td>Informative Features</td>\n",
       "      <td>0.646996</td>\n",
       "    </tr>\n",
       "    <tr>\n",
       "      <th>4</th>\n",
       "      <td>Light Gradient Boosting on ElasticNet Predicti...</td>\n",
       "      <td>65774b0758bfa0dcc1b287f4</td>\n",
       "      <td>63.9836</td>\n",
       "      <td>Informative Features</td>\n",
       "      <td>0.648010</td>\n",
       "    </tr>\n",
       "    <tr>\n",
       "      <th>5</th>\n",
       "      <td>RuleFit Regressor</td>\n",
       "      <td>65774b0758bfa0dcc1b287f6</td>\n",
       "      <td>63.9836</td>\n",
       "      <td>Informative Features</td>\n",
       "      <td>0.690190</td>\n",
       "    </tr>\n",
       "    <tr>\n",
       "      <th>6</th>\n",
       "      <td>Generalized Additive2 Model</td>\n",
       "      <td>65774b0758bfa0dcc1b287f2</td>\n",
       "      <td>63.9836</td>\n",
       "      <td>Informative Features</td>\n",
       "      <td>0.707420</td>\n",
       "    </tr>\n",
       "    <tr>\n",
       "      <th>7</th>\n",
       "      <td>Ridge Regressor</td>\n",
       "      <td>65774b0758bfa0dcc1b287f0</td>\n",
       "      <td>63.9836</td>\n",
       "      <td>Informative Features</td>\n",
       "      <td>0.733042</td>\n",
       "    </tr>\n",
       "    <tr>\n",
       "      <th>8</th>\n",
       "      <td>Elastic-Net Regressor (mixing alpha=0.5 / Leas...</td>\n",
       "      <td>65774b0758bfa0dcc1b287f1</td>\n",
       "      <td>63.9836</td>\n",
       "      <td>Informative Features</td>\n",
       "      <td>0.749406</td>\n",
       "    </tr>\n",
       "  </tbody>\n",
       "</table>\n",
       "</div>"
      ],
      "text/plain": [
       "                                          model_type  \\\n",
       "0                             RandomForest Regressor   \n",
       "1                             RandomForest Regressor   \n",
       "2  Light Gradient Boosted Trees Regressor with Ea...   \n",
       "3           eXtreme Gradient Boosted Trees Regressor   \n",
       "4  Light Gradient Boosting on ElasticNet Predicti...   \n",
       "5                                  RuleFit Regressor   \n",
       "6                        Generalized Additive2 Model   \n",
       "7                                    Ridge Regressor   \n",
       "8  Elastic-Net Regressor (mixing alpha=0.5 / Leas...   \n",
       "\n",
       "                   model_id  sample_pct           featurelist  cross_val_RMSE  \n",
       "0  65774c39174d4613acef2eb0    100.0000  Informative Features        0.614260  \n",
       "1  65774b0758bfa0dcc1b287f5     63.9836  Informative Features        0.629826  \n",
       "2  65774b0758bfa0dcc1b287f3     63.9836  Informative Features        0.647134  \n",
       "3  65774b0758bfa0dcc1b287f7     63.9836  Informative Features        0.646996  \n",
       "4  65774b0758bfa0dcc1b287f4     63.9836  Informative Features        0.648010  \n",
       "5  65774b0758bfa0dcc1b287f6     63.9836  Informative Features        0.690190  \n",
       "6  65774b0758bfa0dcc1b287f2     63.9836  Informative Features        0.707420  \n",
       "7  65774b0758bfa0dcc1b287f0     63.9836  Informative Features        0.733042  \n",
       "8  65774b0758bfa0dcc1b287f1     63.9836  Informative Features        0.749406  "
      ]
     },
     "execution_count": 10,
     "metadata": {},
     "output_type": "execute_result"
    }
   ],
   "source": [
    "cv_rmse_scores = pd.DataFrame()\n",
    "\n",
    "for m in models:\n",
    "    \n",
    "    df = pd.DataFrame([{'model_type': m.model_type,\n",
    "                    'model_id': m.id,\n",
    "                    'sample_pct': m.sample_pct,\n",
    "                    'featurelist': m.featurelist_name,\n",
    "                    'cross_val_RMSE': m.metrics['RMSE']['crossValidation']}])\n",
    "    cv_rmse_scores = pd.concat([cv_rmse_scores,df], axis = 0, ignore_index=True)\n",
    "    \n",
    "cv_rmse_scores"
   ]
  },
  {
   "cell_type": "markdown",
   "metadata": {
    "tags": []
   },
   "source": [
    "## 3. View model insights"
   ]
  },
  {
   "cell_type": "markdown",
   "metadata": {
    "tags": []
   },
   "source": [
    "### 3a. Feature Impact"
   ]
  },
  {
   "cell_type": "markdown",
   "metadata": {},
   "source": [
    "Let's see which of the modeling inputs contributed the most towards wine quality. You can do this for any model in the leaderboard. As an example, we will use the `recommendedModel`"
   ]
  },
  {
   "cell_type": "markdown",
   "metadata": {},
   "source": [
    "DataRobot automatically calculates normalized impact scores for each input variable. We will use the `recommendedModel`to get impact scores for the model, and then plot them."
   ]
  },
  {
   "cell_type": "markdown",
   "metadata": {},
   "source": [
    "See more about Feature Impact, and how DataRobot calculates it in the docs [here](https://docs.datarobot.com/en/docs/modeling/analyze-models/understand/feature-impact.html#feature-impact_)"
   ]
  },
  {
   "cell_type": "code",
   "execution_count": 11,
   "metadata": {},
   "outputs": [],
   "source": [
    "max_num_features = 15\n",
    "time_to_wait_for_impact = 4 * 60  # seconds\n",
    "\n",
    "try:\n",
    "    feature_impacts = recommendedModel.get_feature_impact()  # if they've already been computed\n",
    "except dr.errors.ClientError as e:\n",
    "    assert e.status_code == 404  # the feature impact score haven't been computed yet\n",
    "    impact_job = recommendedModel.request_feature_impact()\n",
    "    feature_impacts = impact_job.get_result_when_complete(time_to_wait_for_impact)\n",
    "\n",
    "feature_impacts.sort(key=lambda x: x['impactNormalized'], reverse=True)\n",
    "FeatureImpactDF = pd.DataFrame([{'Impact Normalized': f[\"impactNormalized\"],\n",
    "                                 'Feature Name': f[\"featureName\"]}\n",
    "                                for f in feature_impacts[:max_num_features]])"
   ]
  },
  {
   "cell_type": "code",
   "execution_count": 12,
   "metadata": {},
   "outputs": [
    {
     "data": {
      "text/html": [
       "<div>\n",
       "<style scoped>\n",
       "    .dataframe tbody tr th:only-of-type {\n",
       "        vertical-align: middle;\n",
       "    }\n",
       "\n",
       "    .dataframe tbody tr th {\n",
       "        vertical-align: top;\n",
       "    }\n",
       "\n",
       "    .dataframe thead th {\n",
       "        text-align: right;\n",
       "    }\n",
       "</style>\n",
       "<table border=\"1\" class=\"dataframe\">\n",
       "  <thead>\n",
       "    <tr style=\"text-align: right;\">\n",
       "      <th></th>\n",
       "      <th>Impact Normalized</th>\n",
       "      <th>Feature Name</th>\n",
       "    </tr>\n",
       "  </thead>\n",
       "  <tbody>\n",
       "    <tr>\n",
       "      <th>0</th>\n",
       "      <td>1.000000</td>\n",
       "      <td>alcohol</td>\n",
       "    </tr>\n",
       "    <tr>\n",
       "      <th>1</th>\n",
       "      <td>0.609860</td>\n",
       "      <td>volatile acidity</td>\n",
       "    </tr>\n",
       "    <tr>\n",
       "      <th>2</th>\n",
       "      <td>0.475324</td>\n",
       "      <td>density</td>\n",
       "    </tr>\n",
       "    <tr>\n",
       "      <th>3</th>\n",
       "      <td>0.442270</td>\n",
       "      <td>free sulfur dioxide</td>\n",
       "    </tr>\n",
       "    <tr>\n",
       "      <th>4</th>\n",
       "      <td>0.410862</td>\n",
       "      <td>chlorides</td>\n",
       "    </tr>\n",
       "    <tr>\n",
       "      <th>5</th>\n",
       "      <td>0.354700</td>\n",
       "      <td>residual sugar</td>\n",
       "    </tr>\n",
       "    <tr>\n",
       "      <th>6</th>\n",
       "      <td>0.327096</td>\n",
       "      <td>pH</td>\n",
       "    </tr>\n",
       "    <tr>\n",
       "      <th>7</th>\n",
       "      <td>0.325254</td>\n",
       "      <td>total sulfur dioxide</td>\n",
       "    </tr>\n",
       "    <tr>\n",
       "      <th>8</th>\n",
       "      <td>0.316519</td>\n",
       "      <td>citric acid</td>\n",
       "    </tr>\n",
       "    <tr>\n",
       "      <th>9</th>\n",
       "      <td>0.245333</td>\n",
       "      <td>fixed acidity</td>\n",
       "    </tr>\n",
       "    <tr>\n",
       "      <th>10</th>\n",
       "      <td>0.212194</td>\n",
       "      <td>sulphates</td>\n",
       "    </tr>\n",
       "  </tbody>\n",
       "</table>\n",
       "</div>"
      ],
      "text/plain": [
       "    Impact Normalized          Feature Name\n",
       "0            1.000000               alcohol\n",
       "1            0.609860      volatile acidity\n",
       "2            0.475324               density\n",
       "3            0.442270   free sulfur dioxide\n",
       "4            0.410862             chlorides\n",
       "5            0.354700        residual sugar\n",
       "6            0.327096                    pH\n",
       "7            0.325254  total sulfur dioxide\n",
       "8            0.316519           citric acid\n",
       "9            0.245333         fixed acidity\n",
       "10           0.212194             sulphates"
      ]
     },
     "execution_count": 12,
     "metadata": {},
     "output_type": "execute_result"
    }
   ],
   "source": [
    "FeatureImpactDF"
   ]
  },
  {
   "cell_type": "code",
   "execution_count": 18,
   "metadata": {},
   "outputs": [
    {
     "data": {
      "text/plain": [
       "<Axes: xlabel='Impact Normalized', ylabel='Feature Name'>"
      ]
     },
     "execution_count": 18,
     "metadata": {},
     "output_type": "execute_result"
    },
    {
     "data": {
      "image/png": "[encoded data removed]",
      "text/plain": [
       "<Figure size 500x500 with 1 Axes>"
      ]
     },
     "metadata": {},
     "output_type": "display_data"
    }
   ],
   "source": [
    "import matplotlib.pyplot as plt\n",
    "import seaborn as sns\n",
    "\n",
    "#Graph Feature Impact based on the normalized impact\n",
    "FeatureImpactDF[\"X axis\"] = FeatureImpactDF.index\n",
    "g = sns.lmplot(x=\"Impact Normalized\", y=\"X axis\", data=FeatureImpactDF, fit_reg=False)\n",
    "sns.barplot(y=FeatureImpactDF[\"Feature Name\"], x=FeatureImpactDF[\"Impact Normalized\"])"
   ]
  },
  {
   "cell_type": "markdown",
   "metadata": {
    "tags": []
   },
   "source": [
    "### 3b. Feature Effects"
   ]
  },
  {
   "cell_type": "markdown",
   "metadata": {},
   "source": [
    "Suppose we want to understand how `density` affects the quality of wine. Density is the 3rd most impactful feature, based on the chart above, so it would be interesting to undertand its role in quality further. For example, does higher density lead to lower quality wine?"
   ]
  },
  {
   "cell_type": "markdown",
   "metadata": {},
   "source": [
    "We can leverage the Feature Effects that DataRobot calculates, to understand how individual features vary with respect to the target (in this case, wine quality). "
   ]
  },
  {
   "cell_type": "markdown",
   "metadata": {},
   "source": [
    "Read more about how DataRobot calculates Feature Effects [here](https://docs.datarobot.com/en/docs/modeling/analyze-models/understand/feature-effects.html#feature-effects)"
   ]
  },
  {
   "cell_type": "markdown",
   "metadata": {},
   "source": [
    "We can once more leverage the `model` object to calculate feature effects"
   ]
  },
  {
   "cell_type": "code",
   "execution_count": 15,
   "metadata": {},
   "outputs": [],
   "source": [
    "# Note the options for \"source\" are: training, validation, or holdout\n",
    "feature_effects = model.get_or_request_feature_effect(source='validation')"
   ]
  },
  {
   "cell_type": "markdown",
   "metadata": {},
   "source": [
    "`density` is the 3rd more impactful feature. So, we can isolate it using the appropriate indexing, since Feature effects are calculated for each variable, in order of their feature impact"
   ]
  },
  {
   "cell_type": "code",
   "execution_count": 16,
   "metadata": {
    "scrolled": true
   },
   "outputs": [],
   "source": [
    "fe_density = feature_effects.feature_effects[2]"
   ]
  },
  {
   "cell_type": "markdown",
   "metadata": {},
   "source": [
    "The Feature Effects insight for a variable is communicated in terms of `partial dependence`, which illustrates how a change in a feature's value, while keeping all other features as they were, impacts a model's predictions. </br>\n",
    "Let's plot what that looks like for `density`"
   ]
  },
  {
   "cell_type": "code",
   "execution_count": 19,
   "metadata": {
    "tags": []
   },
   "outputs": [
    {
     "data": {
      "image/png": "[encoded data removed]",
      "text/plain": [
       "<Figure size 640x480 with 1 Axes>"
      ]
     },
     "metadata": {},
     "output_type": "display_data"
    }
   ],
   "source": [
    "fe_density_df = pd.DataFrame(fe_density['partial_dependence']['data'])\n",
    "\n",
    "sns.lineplot(x = \"label\", y = \"dependence\", data=fe_density_df)\n",
    "plt.xticks(fe_density_df['label'][::10], rotation = 45) \n",
    "plt.xlabel(\"density\")\n",
    "plt.ylabel(\"Target (Wine Quality)\");"
   ]
  },
  {
   "cell_type": "markdown",
   "metadata": {},
   "source": [
    "So it appears that higher density does in fact lead to predictions of lower wine quality."
   ]
  },
  {
   "cell_type": "code",
   "execution_count": null,
   "metadata": {},
   "outputs": [],
   "source": []
  }
 ],
 "metadata": {
  "kernelspec": {
   "display_name": "Python 3 (ipykernel)",
   "language": "python",
   "name": "python3"
  },
  "language_info": {
   "codemirror_mode": {
    "name": "ipython",
    "version": 3
   },
   "file_extension": ".py",
   "mimetype": "text/x-python",
   "name": "python",
   "nbconvert_exporter": "python",
   "pygments_lexer": "ipython3",
   "version": "3.11.5"
  },
  "toc": {
   "base_numbering": 1,
   "nav_menu": {},
   "number_sections": true,
   "sideBar": true,
   "skip_h1_title": false,
   "title_cell": "Table of Contents",
   "title_sidebar": "Contents",
   "toc_cell": false,
   "toc_position": {},
   "toc_section_display": true,
   "toc_window_display": false
  }
 },
 "nbformat": 4,
 "nbformat_minor": 4
}
