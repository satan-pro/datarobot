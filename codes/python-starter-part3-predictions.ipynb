{
 "cells": [
  {
   "cell_type": "markdown",
   "metadata": {},
   "source": [
    "![title](datarobot.jpg)"
   ]
  },
  {
   "cell_type": "markdown",
   "metadata": {},
   "source": [
    "# DataRobot Python API Starter Activity \n",
    "# Part 3 — Predictions"
   ]
  },
  {
   "cell_type": "markdown",
   "metadata": {},
   "source": [
    "## Pre-requisites\n"
   ]
  },
  {
   "cell_type": "markdown",
   "metadata": {},
   "source": [
    "*Before starting this activity (Part 3), be sure to complete Part 1 (including waiting for Autopilot to complete).*\n",
    "    \n"
   ]
  },
  {
   "cell_type": "markdown",
   "metadata": {},
   "source": [
    "## Part 3 Objectives"
   ]
  },
  {
   "cell_type": "markdown",
   "metadata": {},
   "source": [
    "In Part 3, you will:\n",
    "- Deploy the model recommended by DataRobot\n",
    "- Request wine quality predictions in batch and real-time modes\n",
    "\n",
    "The goal in this activity is to predict the quality rating for a particular wine based on various characteristics of the wine, such as its acidity and alcohol and sugar content.\n",
    "\n",
    "The wine data comes from the University of California, Irvine Machine Learning Repository: https://archive.ics.uci.edu/ml/datasets/wine+quality. \n",
    "\n",
    "Citation: *P. Cortez, A. Cerdeira, F. Almeida, T. Matos and J. Reis.\n",
    "Modeling wine preferences by data mining from physicochemical properties. In Decision Support Systems, Elsevier, 47(4):547-553, 2009.*"
   ]
  },
  {
   "cell_type": "markdown",
   "metadata": {},
   "source": [
    "---"
   ]
  },
  {
   "cell_type": "markdown",
   "metadata": {},
   "source": [
    "## Setting Up Your Application"
   ]
  },
  {
   "cell_type": "markdown",
   "metadata": {},
   "source": [
    "You will need to run the same client setup you did in part 1."
   ]
  },
  {
   "cell_type": "markdown",
   "metadata": {},
   "source": [
    "**Tip**: Before you start running any code, we recommend you enable Jupyter interactive shell feature, which allows you to see all of the output a particular Jupyter cell produces rather than just the last output. This will be particularly helpful as you complete your exercises."
   ]
  },
  {
   "cell_type": "code",
   "execution_count": null,
   "metadata": {},
   "outputs": [],
   "source": [
    "from IPython.core.interactiveshell import InteractiveShell\n",
    "InteractiveShell.ast_node_interactivity = \"all\"\n",
    "\n",
    "import datarobot as dr\n",
    "import pandas as pd"
   ]
  },
  {
   "cell_type": "code",
   "execution_count": 1,
   "metadata": {},
   "outputs": [
    {
     "data": {
      "text/plain": [
       "<datarobot.rest.RESTClientObject at 0x11701d950>"
      ]
     },
     "execution_count": 1,
     "metadata": {},
     "output_type": "execute_result"
    }
   ],
   "source": [
    "# Remove or comment out this line if you are using DataRobot Notebooks\n",
    "dr.Client(config_path = 'drconfig.yaml')"
   ]
  },
  {
   "cell_type": "markdown",
   "metadata": {},
   "source": [
    "## 1. Viewing and Deploying Models "
   ]
  },
  {
   "cell_type": "markdown",
   "metadata": {},
   "source": [
    "### 1a. Retrieve the recommended model for the project"
   ]
  },
  {
   "cell_type": "markdown",
   "metadata": {},
   "source": [
    "#### Note: Section 1a. will be familiar to those of you that have completed part 2"
   ]
  },
  {
   "cell_type": "markdown",
   "metadata": {},
   "source": [
    "When `wait_for_autopilot()` returns, Autopilot has trained an initial set of models in the project. Because you are working in a separate notebook from the one where you started the project, you need to request a reference to the project created from DataRobot.\n",
    "\n",
    "- We will start by using the DataRobot Client API `Project` to retrieve an existing DataRobot project of our choice.\n",
    "\n",
    "- To do this, you will need a Project id.\n",
    "\n",
    "- There are a number of ways to get a handle to your project. For example:\n",
    "\n",
    "    - You can go to the DataRobot application UI, open the project, and extract the project ID from the URL. For example:\n",
    "        - `app.datarobot.com/projects/`**`60faf10710c1574209c6ddb0`**`/models`\n",
    "    \n",
    "\n",
    "    - You can get a list of all of your projects using `Project.list()` and find the right one by name. Try that now:\n",
    "    "
   ]
  },
  {
   "cell_type": "code",
   "execution_count": null,
   "metadata": {
    "ExecuteTime": {
     "end_time": "2021-07-29T17:52:47.069300Z",
     "start_time": "2021-07-29T17:52:46.328933Z"
    },
    "collapsed": true,
    "jupyter": {
     "outputs_hidden": true
    },
    "tags": []
   },
   "outputs": [],
   "source": [
    "for p in dr.Project.list():\n",
    "    print (p.id, p.project_name)"
   ]
  },
  {
   "cell_type": "markdown",
   "metadata": {},
   "source": [
    "Using the ID, you can get the right `Project` object."
   ]
  },
  {
   "cell_type": "code",
   "execution_count": 2,
   "metadata": {},
   "outputs": [
    {
     "name": "stdout",
     "output_type": "stream",
     "text": [
      "Project(Python wine quality 2023-12-11)\n"
     ]
    }
   ],
   "source": [
    "projectId = '65774a827fce32b668b7c673' #your-project-id\n",
    "project = dr.Project.get(projectId)\n",
    "print(project)"
   ]
  },
  {
   "cell_type": "markdown",
   "metadata": {},
   "source": [
    "- A DataRobot Client API `Model` object represents a model calculated by DataRobot.\n",
    "- The `Model` class provides numerous ways to evaluate, interact with and test models.\n",
    "- See more in the docs [here](https://datarobot-public-api-client.readthedocs-hosted.com/en/latest-release/autodoc/api_reference.html#model)\n",
    "\n",
    "Let's get an array of `Model` objects representing all the project's models."
   ]
  },
  {
   "cell_type": "code",
   "execution_count": 3,
   "metadata": {
    "ExecuteTime": {
     "end_time": "2021-07-29T17:52:56.330948Z",
     "start_time": "2021-07-29T17:52:55.154791Z"
    }
   },
   "outputs": [
    {
     "name": "stdout",
     "output_type": "stream",
     "text": [
      "65774c39174d4613acef2eb0 RandomForest Regressor\n",
      "65774b0758bfa0dcc1b287f5 RandomForest Regressor\n",
      "65774b0758bfa0dcc1b287f3 Light Gradient Boosted Trees Regressor with Early Stopping\n",
      "65774b0758bfa0dcc1b287f7 eXtreme Gradient Boosted Trees Regressor\n",
      "65774b0758bfa0dcc1b287f4 Light Gradient Boosting on ElasticNet Predictions \n",
      "65774b0758bfa0dcc1b287f6 RuleFit Regressor\n",
      "65774b0758bfa0dcc1b287f2 Generalized Additive2 Model\n",
      "65774b0758bfa0dcc1b287f0 Ridge Regressor\n",
      "65774b0758bfa0dcc1b287f1 Elastic-Net Regressor (mixing alpha=0.5 / Least-Squares Loss)\n"
     ]
    }
   ],
   "source": [
    "models = project.get_models()\n",
    "for m in models:\n",
    "    print(m.id,m.model_type)"
   ]
  },
  {
   "cell_type": "markdown",
   "metadata": {},
   "source": [
    "Evaluating and comparing the various characteristics of the models and choosing one to deploy is is covered in the *Part 2 Notebook*. \n",
    "\n",
    "To proceed with deployment, let's use the \"recommended model\" chosen automatically by DataRobot."
   ]
  },
  {
   "cell_type": "code",
   "execution_count": 4,
   "metadata": {},
   "outputs": [
    {
     "name": "stdout",
     "output_type": "stream",
     "text": [
      "65774c39174d4613acef2eb0 RandomForest Regressor\n"
     ]
    }
   ],
   "source": [
    "recommendedModel = dr.ModelRecommendation.get(project.id).get_model()\n",
    "print (recommendedModel.id,recommendedModel.model_type)"
   ]
  },
  {
   "cell_type": "markdown",
   "metadata": {},
   "source": [
    "DataRobot automatically recommends the most accurate modeling approach and prepares a model for deployment.</br>\n",
    "</br>\n",
    "See more about the model recommendation process in DataRobot in the docs [here](https://docs.datarobot.com/en/docs/modeling/reference/model-detail/model-rec-process.html)</br>\n",
    "See more about DataRobot's \"prepare for deployment\" in the docs [here](https://docs.datarobot.com/en/docs/modeling/reference/model-detail/model-rec-process.html#prepare-a-model-for-deployment)"
   ]
  },
  {
   "cell_type": "markdown",
   "metadata": {},
   "source": [
    "----"
   ]
  },
  {
   "cell_type": "markdown",
   "metadata": {},
   "source": [
    "### 1b. Deploy the recommended model"
   ]
  },
  {
   "cell_type": "markdown",
   "metadata": {},
   "source": [
    "Now that you have selected a model (the recommended model, in this case), the next step is to deploy it to a prediction server. This makes it available to do real-time or batch predictions. \n",
    "\n",
    "**NOTE: This operation is different depending on whether you are using a trial or pay-as-you-go account, full Managed AI Cloud account, or an on-premises/self-managed DataRobot installation.**"
   ]
  },
  {
   "cell_type": "markdown",
   "metadata": {},
   "source": [
    "### For **Managed AI Cloud Accounts** & **self-managed DataRobot** installations:"
   ]
  },
  {
   "cell_type": "markdown",
   "metadata": {},
   "source": [
    "For full (as opposed to trial) accounts, you must specify a default prediction server."
   ]
  },
  {
   "cell_type": "markdown",
   "metadata": {},
   "source": [
    "Let's list the prediction servers available to help make our choice"
   ]
  },
  {
   "cell_type": "code",
   "execution_count": 5,
   "metadata": {},
   "outputs": [
    {
     "data": {
      "text/plain": [
       "[PredictionServer(https://datarobot-university.dynamic.orm.datarobot.com)]"
      ]
     },
     "execution_count": 5,
     "metadata": {},
     "output_type": "execute_result"
    }
   ],
   "source": [
    "dr.PredictionServer.list()"
   ]
  },
  {
   "cell_type": "code",
   "execution_count": 6,
   "metadata": {},
   "outputs": [
    {
     "data": {
      "text/plain": [
       "Deployment(Wine Quality)"
      ]
     },
     "execution_count": 6,
     "metadata": {},
     "output_type": "execute_result"
    }
   ],
   "source": [
    "predictionServer = dr.PredictionServer.list()[0]\n",
    "\n",
    "deployment = dr.Deployment.create_from_learning_model(\n",
    "    model_id=recommendedModel.id, \n",
    "    label='Wine Quality',\n",
    "    description='Model for scoring wine quality',\n",
    "    default_prediction_server_id=predictionServer.id\n",
    ")\n",
    "deployment"
   ]
  },
  {
   "cell_type": "markdown",
   "metadata": {},
   "source": [
    "### For **Trial** or **pay-as-you-go accounts** you don't specify a prediction server when deploying."
   ]
  },
  {
   "cell_type": "code",
   "execution_count": null,
   "metadata": {},
   "outputs": [],
   "source": [
    "deployment = dr.Deployment.create_from_learning_model(\n",
    "    model_id=recommendedModel.id, \n",
    "    label='Wine Quality',\n",
    "    description='Model for scoring wine quality'\n",
    ")"
   ]
  },
  {
   "cell_type": "markdown",
   "metadata": {},
   "source": [
    "Just as with creating a project, your work in the API is reflected in the GUI as well. For any deployment created via the API, you can print the hyperlink to take you directly to the deployment in the GUI."
   ]
  },
  {
   "cell_type": "code",
   "execution_count": 7,
   "metadata": {},
   "outputs": [
    {
     "data": {
      "text/plain": [
       "'https://app.datarobot.com/deployments/657765c0580b0b6e2f6ef874/overview'"
      ]
     },
     "execution_count": 7,
     "metadata": {},
     "output_type": "execute_result"
    }
   ],
   "source": [
    "## Get hyperlink to deployment in the GUI\n",
    "deployment.get_uri()"
   ]
  },
  {
   "cell_type": "markdown",
   "metadata": {},
   "source": [
    "### *Congratulations, you've just deployed a model into production!*"
   ]
  },
  {
   "cell_type": "markdown",
   "metadata": {},
   "source": [
    "------"
   ]
  },
  {
   "cell_type": "markdown",
   "metadata": {},
   "source": [
    "## 2. Requesting Predictions"
   ]
  },
  {
   "cell_type": "markdown",
   "metadata": {},
   "source": [
    "For this activity, we have provided you with a small test dataset containing wines and their feature values. You will practice scoring this data to predict the `quality` target using the batch prediction method and the realtime prediction method.\n",
    "\n",
    "Review the data in the `winequality-white-score.csv` file."
   ]
  },
  {
   "cell_type": "markdown",
   "metadata": {},
   "source": [
    "### Request batch predictions"
   ]
  },
  {
   "cell_type": "markdown",
   "metadata": {},
   "source": [
    "Start a prediction job that passes in the scoring data from the provided data file, and saves the predictions to a local file called `winequality-white-predictions.csv`.\n",
    "\n",
    "A \"passthrough column\" allows you to pass a column value to the prediction engine, which will be included unchanged in the output. In this example, including a unique ID for each wine allows you to easily correlate rows in the scoring dataset with rows in the predictions output.\n",
    "\n",
    "The prediction job might take a minute or so.\n",
    "\n",
    "**NOTE**: If you are using DataRobot Notebooks and cannot use the 'localFile' option, you can use the [`predict_batch()`](https://datarobot-public-api-client.readthedocs-hosted.com/en/latest-release/reference/predictions/batch_predictions.html#make-batch-predictions-with-a-deployment) method with:  \n",
    "```\n",
    "df_score = pd.read_csv('https://datarobot.box.com/shared/static/27n2c6xdhkmv9jw68om07vrmy48uz1qd.csv')\n",
    "\n",
    "pred_res = deployment.predict_batch(source=df_score)\n",
    "```"
   ]
  },
  {
   "cell_type": "code",
   "execution_count": 8,
   "metadata": {},
   "outputs": [],
   "source": [
    "job = dr.BatchPredictionJob.score (\n",
    "    deployment=deployment.id,\n",
    "    passthrough_columns=['wine_id'],\n",
    "    intake_settings={\n",
    "        'type': 'localFile',\n",
    "        'file': './winequality-white-score.csv'\n",
    "    },\n",
    "    output_settings={\n",
    "        'type': 'localFile',\n",
    "        'path': './winequality-white-predictions-231211.csv'\n",
    "    }\n",
    ")"
   ]
  },
  {
   "cell_type": "markdown",
   "metadata": {},
   "source": [
    "As we defined above, the output has been written into a file called `winequality-white-predictions.csv`. </br>\n",
    "Let's read it into our notebook using Pandas to take a closer look at the prediction results.\n",
    "\n",
    "**Note**: If your account has the [Model Deployment Approval Workflow](https://app.datarobot.com/docs/mlops/governance/dep-admin.html) enabled, the output will include a column called `DEPLOYMENT_APPROVAL_STATUS`. For this activity, you can disregard those values."
   ]
  },
  {
   "cell_type": "code",
   "execution_count": 9,
   "metadata": {},
   "outputs": [
    {
     "data": {
      "text/html": [
       "<div>\n",
       "<style scoped>\n",
       "    .dataframe tbody tr th:only-of-type {\n",
       "        vertical-align: middle;\n",
       "    }\n",
       "\n",
       "    .dataframe tbody tr th {\n",
       "        vertical-align: top;\n",
       "    }\n",
       "\n",
       "    .dataframe thead th {\n",
       "        text-align: right;\n",
       "    }\n",
       "</style>\n",
       "<table border=\"1\" class=\"dataframe\">\n",
       "  <thead>\n",
       "    <tr style=\"text-align: right;\">\n",
       "      <th></th>\n",
       "      <th>quality_PREDICTION</th>\n",
       "      <th>DEPLOYMENT_APPROVAL_STATUS</th>\n",
       "      <th>wine_id</th>\n",
       "    </tr>\n",
       "  </thead>\n",
       "  <tbody>\n",
       "    <tr>\n",
       "      <th>0</th>\n",
       "      <td>6.214605</td>\n",
       "      <td>APPROVED</td>\n",
       "      <td>100</td>\n",
       "    </tr>\n",
       "    <tr>\n",
       "      <th>1</th>\n",
       "      <td>6.557977</td>\n",
       "      <td>APPROVED</td>\n",
       "      <td>101</td>\n",
       "    </tr>\n",
       "    <tr>\n",
       "      <th>2</th>\n",
       "      <td>5.651748</td>\n",
       "      <td>APPROVED</td>\n",
       "      <td>102</td>\n",
       "    </tr>\n",
       "    <tr>\n",
       "      <th>3</th>\n",
       "      <td>6.450522</td>\n",
       "      <td>APPROVED</td>\n",
       "      <td>103</td>\n",
       "    </tr>\n",
       "    <tr>\n",
       "      <th>4</th>\n",
       "      <td>5.818415</td>\n",
       "      <td>APPROVED</td>\n",
       "      <td>104</td>\n",
       "    </tr>\n",
       "  </tbody>\n",
       "</table>\n",
       "</div>"
      ],
      "text/plain": [
       "   quality_PREDICTION DEPLOYMENT_APPROVAL_STATUS  wine_id\n",
       "0            6.214605                   APPROVED      100\n",
       "1            6.557977                   APPROVED      101\n",
       "2            5.651748                   APPROVED      102\n",
       "3            6.450522                   APPROVED      103\n",
       "4            5.818415                   APPROVED      104"
      ]
     },
     "execution_count": 9,
     "metadata": {},
     "output_type": "execute_result"
    }
   ],
   "source": [
    "pred_res = pd.read_csv('winequality-white-predictions-231211.csv')\n",
    "pred_res.head(n = 5)"
   ]
  },
  {
   "cell_type": "markdown",
   "metadata": {},
   "source": [
    "To gain insights into each prediction being made, you can also include Prediction Explanations in the output. \n",
    "\n",
    "Prediction Explanations illustrate what drives predictions on a row-by-row basis. Read more about Prediction Explanations in the documentation [here](https://docs.datarobot.com/en/docs/modeling/analyze-models/understand/pred-explain/predex-overview.html). "
   ]
  },
  {
   "cell_type": "code",
   "execution_count": 10,
   "metadata": {},
   "outputs": [],
   "source": [
    "job = dr.BatchPredictionJob.score (\n",
    "    deployment=deployment.id,\n",
    "    passthrough_columns=['wine_id'],\n",
    "    intake_settings={\n",
    "        'type': 'localFile',\n",
    "        'file': './winequality-white-score.csv'\n",
    "    },\n",
    "    output_settings={\n",
    "        'type': 'localFile',\n",
    "        'path': './winequality-white-predictions-top3predexp.csv'\n",
    "    },\n",
    "    max_explanations= 3\n",
    ")"
   ]
  },
  {
   "cell_type": "code",
   "execution_count": 11,
   "metadata": {},
   "outputs": [
    {
     "data": {
      "text/html": [
       "<div>\n",
       "<style scoped>\n",
       "    .dataframe tbody tr th:only-of-type {\n",
       "        vertical-align: middle;\n",
       "    }\n",
       "\n",
       "    .dataframe tbody tr th {\n",
       "        vertical-align: top;\n",
       "    }\n",
       "\n",
       "    .dataframe thead th {\n",
       "        text-align: right;\n",
       "    }\n",
       "</style>\n",
       "<table border=\"1\" class=\"dataframe\">\n",
       "  <thead>\n",
       "    <tr style=\"text-align: right;\">\n",
       "      <th></th>\n",
       "      <th>quality_PREDICTION</th>\n",
       "      <th>EXPLANATION_1_FEATURE_NAME</th>\n",
       "      <th>EXPLANATION_1_STRENGTH</th>\n",
       "      <th>EXPLANATION_1_ACTUAL_VALUE</th>\n",
       "      <th>EXPLANATION_1_QUALITATIVE_STRENGTH</th>\n",
       "      <th>EXPLANATION_2_FEATURE_NAME</th>\n",
       "      <th>EXPLANATION_2_STRENGTH</th>\n",
       "      <th>EXPLANATION_2_ACTUAL_VALUE</th>\n",
       "      <th>EXPLANATION_2_QUALITATIVE_STRENGTH</th>\n",
       "      <th>EXPLANATION_3_FEATURE_NAME</th>\n",
       "      <th>EXPLANATION_3_STRENGTH</th>\n",
       "      <th>EXPLANATION_3_ACTUAL_VALUE</th>\n",
       "      <th>EXPLANATION_3_QUALITATIVE_STRENGTH</th>\n",
       "      <th>DEPLOYMENT_APPROVAL_STATUS</th>\n",
       "      <th>wine_id</th>\n",
       "    </tr>\n",
       "  </thead>\n",
       "  <tbody>\n",
       "    <tr>\n",
       "      <th>0</th>\n",
       "      <td>6.214605</td>\n",
       "      <td>alcohol</td>\n",
       "      <td>0.113683</td>\n",
       "      <td>11.4500</td>\n",
       "      <td>++</td>\n",
       "      <td>chlorides</td>\n",
       "      <td>0.095150</td>\n",
       "      <td>0.021</td>\n",
       "      <td>++</td>\n",
       "      <td>pH</td>\n",
       "      <td>-0.094613</td>\n",
       "      <td>3.15</td>\n",
       "      <td>--</td>\n",
       "      <td>APPROVED</td>\n",
       "      <td>100</td>\n",
       "    </tr>\n",
       "    <tr>\n",
       "      <th>1</th>\n",
       "      <td>6.557977</td>\n",
       "      <td>density</td>\n",
       "      <td>0.329270</td>\n",
       "      <td>0.9897</td>\n",
       "      <td>+++</td>\n",
       "      <td>alcohol</td>\n",
       "      <td>0.240535</td>\n",
       "      <td>12.050</td>\n",
       "      <td>+++</td>\n",
       "      <td>fixed acidity</td>\n",
       "      <td>0.094113</td>\n",
       "      <td>5.00</td>\n",
       "      <td>++</td>\n",
       "      <td>APPROVED</td>\n",
       "      <td>101</td>\n",
       "    </tr>\n",
       "    <tr>\n",
       "      <th>2</th>\n",
       "      <td>5.651748</td>\n",
       "      <td>alcohol</td>\n",
       "      <td>-0.266730</td>\n",
       "      <td>9.7000</td>\n",
       "      <td>---</td>\n",
       "      <td>chlorides</td>\n",
       "      <td>0.133633</td>\n",
       "      <td>0.032</td>\n",
       "      <td>++</td>\n",
       "      <td>residual sugar</td>\n",
       "      <td>0.105565</td>\n",
       "      <td>12.40</td>\n",
       "      <td>++</td>\n",
       "      <td>APPROVED</td>\n",
       "      <td>102</td>\n",
       "    </tr>\n",
       "    <tr>\n",
       "      <th>3</th>\n",
       "      <td>6.450522</td>\n",
       "      <td>alcohol</td>\n",
       "      <td>0.209306</td>\n",
       "      <td>11.9000</td>\n",
       "      <td>+++</td>\n",
       "      <td>residual sugar</td>\n",
       "      <td>-0.179142</td>\n",
       "      <td>1.600</td>\n",
       "      <td>--</td>\n",
       "      <td>pH</td>\n",
       "      <td>0.138487</td>\n",
       "      <td>3.33</td>\n",
       "      <td>++</td>\n",
       "      <td>APPROVED</td>\n",
       "      <td>103</td>\n",
       "    </tr>\n",
       "    <tr>\n",
       "      <th>4</th>\n",
       "      <td>5.818415</td>\n",
       "      <td>alcohol</td>\n",
       "      <td>-0.152883</td>\n",
       "      <td>10.0000</td>\n",
       "      <td>---</td>\n",
       "      <td>free sulfur dioxide</td>\n",
       "      <td>-0.096800</td>\n",
       "      <td>16.000</td>\n",
       "      <td>---</td>\n",
       "      <td>pH</td>\n",
       "      <td>0.059776</td>\n",
       "      <td>3.49</td>\n",
       "      <td>++</td>\n",
       "      <td>APPROVED</td>\n",
       "      <td>104</td>\n",
       "    </tr>\n",
       "  </tbody>\n",
       "</table>\n",
       "</div>"
      ],
      "text/plain": [
       "   quality_PREDICTION EXPLANATION_1_FEATURE_NAME  EXPLANATION_1_STRENGTH  \\\n",
       "0            6.214605                    alcohol                0.113683   \n",
       "1            6.557977                    density                0.329270   \n",
       "2            5.651748                    alcohol               -0.266730   \n",
       "3            6.450522                    alcohol                0.209306   \n",
       "4            5.818415                    alcohol               -0.152883   \n",
       "\n",
       "   EXPLANATION_1_ACTUAL_VALUE EXPLANATION_1_QUALITATIVE_STRENGTH  \\\n",
       "0                     11.4500                                 ++   \n",
       "1                      0.9897                                +++   \n",
       "2                      9.7000                                ---   \n",
       "3                     11.9000                                +++   \n",
       "4                     10.0000                                ---   \n",
       "\n",
       "  EXPLANATION_2_FEATURE_NAME  EXPLANATION_2_STRENGTH  \\\n",
       "0                  chlorides                0.095150   \n",
       "1                    alcohol                0.240535   \n",
       "2                  chlorides                0.133633   \n",
       "3             residual sugar               -0.179142   \n",
       "4        free sulfur dioxide               -0.096800   \n",
       "\n",
       "   EXPLANATION_2_ACTUAL_VALUE EXPLANATION_2_QUALITATIVE_STRENGTH  \\\n",
       "0                       0.021                                 ++   \n",
       "1                      12.050                                +++   \n",
       "2                       0.032                                 ++   \n",
       "3                       1.600                                 --   \n",
       "4                      16.000                                ---   \n",
       "\n",
       "  EXPLANATION_3_FEATURE_NAME  EXPLANATION_3_STRENGTH  \\\n",
       "0                         pH               -0.094613   \n",
       "1              fixed acidity                0.094113   \n",
       "2             residual sugar                0.105565   \n",
       "3                         pH                0.138487   \n",
       "4                         pH                0.059776   \n",
       "\n",
       "   EXPLANATION_3_ACTUAL_VALUE EXPLANATION_3_QUALITATIVE_STRENGTH  \\\n",
       "0                        3.15                                 --   \n",
       "1                        5.00                                 ++   \n",
       "2                       12.40                                 ++   \n",
       "3                        3.33                                 ++   \n",
       "4                        3.49                                 ++   \n",
       "\n",
       "  DEPLOYMENT_APPROVAL_STATUS  wine_id  \n",
       "0                   APPROVED      100  \n",
       "1                   APPROVED      101  \n",
       "2                   APPROVED      102  \n",
       "3                   APPROVED      103  \n",
       "4                   APPROVED      104  "
      ]
     },
     "execution_count": 11,
     "metadata": {},
     "output_type": "execute_result"
    }
   ],
   "source": [
    "pred_pe_res = pd.read_csv('winequality-white-predictions-top3predexp.csv')\n",
    "pred_pe_res.head(n = 5)"
   ]
  },
  {
   "cell_type": "code",
   "execution_count": null,
   "metadata": {},
   "outputs": [],
   "source": []
  }
 ],
 "metadata": {
  "kernelspec": {
   "display_name": "Python 3 (ipykernel)",
   "language": "python",
   "name": "python3"
  },
  "language_info": {
   "codemirror_mode": {
    "name": "ipython",
    "version": 3
   },
   "file_extension": ".py",
   "mimetype": "text/x-python",
   "name": "python",
   "nbconvert_exporter": "python",
   "pygments_lexer": "ipython3",
   "version": "3.11.5"
  },
  "toc": {
   "base_numbering": 1,
   "nav_menu": {},
   "number_sections": true,
   "sideBar": true,
   "skip_h1_title": false,
   "title_cell": "Table of Contents",
   "title_sidebar": "Contents",
   "toc_cell": false,
   "toc_position": {},
   "toc_section_display": true,
   "toc_window_display": false
  }
 },
 "nbformat": 4,
 "nbformat_minor": 4
}
