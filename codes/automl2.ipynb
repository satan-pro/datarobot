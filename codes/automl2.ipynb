{
 "cells": [
  {
   "cell_type": "code",
   "execution_count": 1,
   "id": "8e55d204",
   "metadata": {},
   "outputs": [],
   "source": [
    "import datarobot as dr\n",
    "import pandas as pd"
   ]
  },
  {
   "cell_type": "code",
   "execution_count": 2,
   "id": "1348c693",
   "metadata": {},
   "outputs": [
    {
     "data": {
      "text/plain": [
       "<datarobot.rest.RESTClientObject at 0x1bb9b3ca440>"
      ]
     },
     "execution_count": 2,
     "metadata": {},
     "output_type": "execute_result"
    }
   ],
   "source": [
    "dr.Client(config_path='./drconfig.yaml')"
   ]
  },
  {
   "cell_type": "code",
   "execution_count": 3,
   "id": "d073f8e2",
   "metadata": {},
   "outputs": [
    {
     "name": "stdout",
     "output_type": "stream",
     "text": [
      "6845d87141f52d1328cf18b5 Auto MPG DR-Client\n",
      "6845d71fa05ad2afbacf0d91 Python wine quality 2025-06-09\n",
      "6845a60d47cd8293e1cf0840 Auto MPG DR-Client\n"
     ]
    }
   ],
   "source": [
    "for p in dr.Project.list():\n",
    "    print(p.id, p.project_name)"
   ]
  },
  {
   "cell_type": "code",
   "execution_count": 4,
   "id": "54144e5c",
   "metadata": {},
   "outputs": [
    {
     "name": "stdout",
     "output_type": "stream",
     "text": [
      "Project(Auto MPG DR-Client)\n"
     ]
    }
   ],
   "source": [
    "project_id = '6845a60d47cd8293e1cf0840'\n",
    "project = dr.Project.get(project_id)\n",
    "print(project)"
   ]
  },
  {
   "cell_type": "code",
   "execution_count": 5,
   "id": "b396f792",
   "metadata": {},
   "outputs": [
    {
     "name": "stderr",
     "output_type": "stream",
     "text": [
      "C:\\Users\\ss81312\\AppData\\Local\\Temp\\ipykernel_29680\\66731113.py:1: DataRobotDeprecationWarning: `get_models` has been marked for change in `3.4`, will be changed in `4.0`. In 4.0, the flag `use_new_models_retrieval` will be always `True`.\n",
      "         Fewer attributes will be returned in the response, see the docstring for more details. \n",
      "  models = project.get_models()\n"
     ]
    },
    {
     "name": "stdout",
     "output_type": "stream",
     "text": [
      "6845a676dd0bf1e3ab60b3b1 Generalized Additive2 Model\n",
      "6845a75d468409e60580c6f6 Light Gradient Boosting on ElasticNet Predictions \n",
      "6845a676dd0bf1e3ab60b3b3 Light Gradient Boosting on ElasticNet Predictions \n",
      "6845a676dd0bf1e3ab60b3af Ridge Regressor\n",
      "6845a676dd0bf1e3ab60b3b2 Light Gradient Boosted Trees Regressor  (4 leaves)\n",
      "6845a676dd0bf1e3ab60b3b4 RandomForest Regressor\n",
      "6845a676dd0bf1e3ab60b3b6 eXtreme Gradient Boosted Trees Regressor\n",
      "6845a676dd0bf1e3ab60b3b0 Elastic-Net Regressor (mixing alpha=0.5 / Least-Squares Loss)\n",
      "6845a676dd0bf1e3ab60b3b5 RuleFit Regressor\n"
     ]
    }
   ],
   "source": [
    "models = project.get_models()\n",
    "for m in models:\n",
    "    print(m.id, m.model_type)"
   ]
  },
  {
   "cell_type": "markdown",
   "id": "39922e98",
   "metadata": {},
   "source": [
    "### Get the recommended model"
   ]
  },
  {
   "cell_type": "code",
   "execution_count": 7,
   "id": "a5aca1ea",
   "metadata": {},
   "outputs": [
    {
     "name": "stdout",
     "output_type": "stream",
     "text": [
      "6845a75d468409e60580c6f6 Light Gradient Boosting on ElasticNet Predictions \n"
     ]
    }
   ],
   "source": [
    "recommended_model = dr.ModelRecommendation.get(project_id).get_model()\n",
    "print(recommended_model.id, recommended_model.model_type)"
   ]
  },
  {
   "cell_type": "code",
   "execution_count": 9,
   "id": "9d50ff0d",
   "metadata": {},
   "outputs": [
    {
     "data": {
      "text/plain": [
       "{'validation': 3.06691,\n",
       " 'crossValidation': 3.344532,\n",
       " 'holdout': None,\n",
       " 'training': None,\n",
       " 'backtestingScores': None,\n",
       " 'backtesting': None}"
      ]
     },
     "execution_count": 9,
     "metadata": {},
     "output_type": "execute_result"
    }
   ],
   "source": [
    "# Get one model from the list of all models\n",
    "model = models[0]\n",
    "\n",
    "# Print the RMSE metric for the model\n",
    "model.metrics['RMSE']"
   ]
  },
  {
   "cell_type": "code",
   "execution_count": 11,
   "id": "06c50b4f",
   "metadata": {},
   "outputs": [
    {
     "name": "stdout",
     "output_type": "stream",
     "text": [
      "Cross Validating for RandomForest Regressor in project Auto MPG DR-Client\n",
      "\n",
      "Cross Validating for eXtreme Gradient Boosted Trees Regressor in project Auto MPG DR-Client\n",
      "\n",
      "Cross Validating for Elastic-Net Regressor (mixing alpha=0.5 / Least-Squares Loss) in project Auto MPG DR-Client\n",
      "\n",
      "Cross Validating for RuleFit Regressor in project Auto MPG DR-Client\n",
      "\n"
     ]
    },
    {
     "name": "stderr",
     "output_type": "stream",
     "text": [
      "C:\\Users\\ss81312\\AppData\\Local\\Temp\\ipykernel_29680\\2007787999.py:15: DataRobotDeprecationWarning: `get_models` has been marked for change in `3.4`, will be changed in `4.0`. In 4.0, the flag `use_new_models_retrieval` will be always `True`.\n",
      "         Fewer attributes will be returned in the response, see the docstring for more details. \n",
      "  models = project.get_models()\n"
     ]
    }
   ],
   "source": [
    "\n",
    "metric_type = 'RMSE'\n",
    "for m in models:\n",
    "\n",
    "    if m.metrics[metric_type]['crossValidation']==None:\n",
    "        try:\n",
    "            dr.Model.cross_validate(m)\n",
    "            print(f'Cross Validating for {m.model_type} in project {project.project_name}')\n",
    "            print('')\n",
    "        except dr.errors.ClientError:\n",
    "            pass\n",
    "            print(f'All CV scores have been uploaded for the project')\n",
    "            print()\n",
    "        \n",
    "# Update the model list\n",
    "models = project.get_models()\n"
   ]
  },
  {
   "cell_type": "markdown",
   "id": "12bc1a79",
   "metadata": {},
   "source": [
    "### Gathering info about the models"
   ]
  },
  {
   "cell_type": "code",
   "execution_count": 12,
   "id": "7111a8c3",
   "metadata": {},
   "outputs": [
    {
     "name": "stderr",
     "output_type": "stream",
     "text": [
      "C:\\Users\\ss81312\\AppData\\Local\\Temp\\ipykernel_29680\\2049052683.py:11: FutureWarning: The behavior of DataFrame concatenation with empty or all-NA entries is deprecated. In a future version, this will no longer exclude empty or all-NA columns when determining the result dtypes. To retain the old behavior, exclude the relevant entries before the concat operation.\n",
      "  cv_rmse_scores = pd.concat([cv_rmse_scores, df], axis=0, ignore_index=True)\n"
     ]
    },
    {
     "data": {
      "text/html": [
       "<div>\n",
       "<style scoped>\n",
       "    .dataframe tbody tr th:only-of-type {\n",
       "        vertical-align: middle;\n",
       "    }\n",
       "\n",
       "    .dataframe tbody tr th {\n",
       "        vertical-align: top;\n",
       "    }\n",
       "\n",
       "    .dataframe thead th {\n",
       "        text-align: right;\n",
       "    }\n",
       "</style>\n",
       "<table border=\"1\" class=\"dataframe\">\n",
       "  <thead>\n",
       "    <tr style=\"text-align: right;\">\n",
       "      <th></th>\n",
       "      <th>model_type</th>\n",
       "      <th>model_id</th>\n",
       "      <th>sample_pct</th>\n",
       "      <th>featureList</th>\n",
       "      <th>cross_val_RMSE</th>\n",
       "    </tr>\n",
       "  </thead>\n",
       "  <tbody>\n",
       "    <tr>\n",
       "      <th>0</th>\n",
       "      <td>Generalized Additive2 Model</td>\n",
       "      <td>6845a676dd0bf1e3ab60b3b1</td>\n",
       "      <td>63.889</td>\n",
       "      <td>Informative Features</td>\n",
       "      <td>3.344532</td>\n",
       "    </tr>\n",
       "    <tr>\n",
       "      <th>1</th>\n",
       "      <td>Light Gradient Boosting on ElasticNet Predicti...</td>\n",
       "      <td>6845a75d468409e60580c6f6</td>\n",
       "      <td>100.000</td>\n",
       "      <td>Informative Features</td>\n",
       "      <td>3.078658</td>\n",
       "    </tr>\n",
       "    <tr>\n",
       "      <th>2</th>\n",
       "      <td>Light Gradient Boosting on ElasticNet Predicti...</td>\n",
       "      <td>6845a676dd0bf1e3ab60b3b3</td>\n",
       "      <td>63.889</td>\n",
       "      <td>Informative Features</td>\n",
       "      <td>2.969524</td>\n",
       "    </tr>\n",
       "    <tr>\n",
       "      <th>3</th>\n",
       "      <td>Ridge Regressor</td>\n",
       "      <td>6845a676dd0bf1e3ab60b3af</td>\n",
       "      <td>63.889</td>\n",
       "      <td>Informative Features</td>\n",
       "      <td>2.988600</td>\n",
       "    </tr>\n",
       "    <tr>\n",
       "      <th>4</th>\n",
       "      <td>Light Gradient Boosted Trees Regressor  (4 lea...</td>\n",
       "      <td>6845a676dd0bf1e3ab60b3b2</td>\n",
       "      <td>63.889</td>\n",
       "      <td>Informative Features</td>\n",
       "      <td>3.007106</td>\n",
       "    </tr>\n",
       "    <tr>\n",
       "      <th>5</th>\n",
       "      <td>RandomForest Regressor</td>\n",
       "      <td>6845a676dd0bf1e3ab60b3b4</td>\n",
       "      <td>63.889</td>\n",
       "      <td>Informative Features</td>\n",
       "      <td>NaN</td>\n",
       "    </tr>\n",
       "    <tr>\n",
       "      <th>6</th>\n",
       "      <td>eXtreme Gradient Boosted Trees Regressor</td>\n",
       "      <td>6845a676dd0bf1e3ab60b3b6</td>\n",
       "      <td>63.889</td>\n",
       "      <td>Informative Features</td>\n",
       "      <td>NaN</td>\n",
       "    </tr>\n",
       "    <tr>\n",
       "      <th>7</th>\n",
       "      <td>Elastic-Net Regressor (mixing alpha=0.5 / Leas...</td>\n",
       "      <td>6845a676dd0bf1e3ab60b3b0</td>\n",
       "      <td>63.889</td>\n",
       "      <td>Informative Features</td>\n",
       "      <td>NaN</td>\n",
       "    </tr>\n",
       "    <tr>\n",
       "      <th>8</th>\n",
       "      <td>RuleFit Regressor</td>\n",
       "      <td>6845a676dd0bf1e3ab60b3b5</td>\n",
       "      <td>63.889</td>\n",
       "      <td>Informative Features</td>\n",
       "      <td>NaN</td>\n",
       "    </tr>\n",
       "  </tbody>\n",
       "</table>\n",
       "</div>"
      ],
      "text/plain": [
       "                                          model_type  \\\n",
       "0                        Generalized Additive2 Model   \n",
       "1  Light Gradient Boosting on ElasticNet Predicti...   \n",
       "2  Light Gradient Boosting on ElasticNet Predicti...   \n",
       "3                                    Ridge Regressor   \n",
       "4  Light Gradient Boosted Trees Regressor  (4 lea...   \n",
       "5                             RandomForest Regressor   \n",
       "6           eXtreme Gradient Boosted Trees Regressor   \n",
       "7  Elastic-Net Regressor (mixing alpha=0.5 / Leas...   \n",
       "8                                  RuleFit Regressor   \n",
       "\n",
       "                   model_id  sample_pct           featureList  cross_val_RMSE  \n",
       "0  6845a676dd0bf1e3ab60b3b1      63.889  Informative Features        3.344532  \n",
       "1  6845a75d468409e60580c6f6     100.000  Informative Features        3.078658  \n",
       "2  6845a676dd0bf1e3ab60b3b3      63.889  Informative Features        2.969524  \n",
       "3  6845a676dd0bf1e3ab60b3af      63.889  Informative Features        2.988600  \n",
       "4  6845a676dd0bf1e3ab60b3b2      63.889  Informative Features        3.007106  \n",
       "5  6845a676dd0bf1e3ab60b3b4      63.889  Informative Features             NaN  \n",
       "6  6845a676dd0bf1e3ab60b3b6      63.889  Informative Features             NaN  \n",
       "7  6845a676dd0bf1e3ab60b3b0      63.889  Informative Features             NaN  \n",
       "8  6845a676dd0bf1e3ab60b3b5      63.889  Informative Features             NaN  "
      ]
     },
     "execution_count": 12,
     "metadata": {},
     "output_type": "execute_result"
    }
   ],
   "source": [
    "cv_rmse_scores = pd.DataFrame()\n",
    "\n",
    "for m in models:\n",
    "    df = pd.DataFrame([{\n",
    "        'model_type': m.model_type,\n",
    "        'model_id': m.id,\n",
    "        'sample_pct': m.sample_pct,\n",
    "        'featureList': m.featurelist_name,\n",
    "        'cross_val_RMSE': m.metrics['RMSE']['crossValidation'] \n",
    "    }])\n",
    "    cv_rmse_scores = pd.concat([cv_rmse_scores, df], axis=0, ignore_index=True)\n",
    "\n",
    "cv_rmse_scores"
   ]
  },
  {
   "cell_type": "markdown",
   "id": "85f21a66",
   "metadata": {},
   "source": [
    "### View Feature Impacts"
   ]
  },
  {
   "cell_type": "code",
   "execution_count": 13,
   "id": "f3372231",
   "metadata": {},
   "outputs": [],
   "source": [
    "max_num_features = 15\n",
    "wait_for_impact = 4*60 # seconds\n",
    "\n",
    "try:\n",
    "    # if feature impacts have already been computed\n",
    "    feature_impacts = recommended_model.get_feature_impact()\n",
    "except dr.errors.ClientError as e:\n",
    "    assert e.status_code == 404\n",
    "    impact_job = recommended_model.request_feature_impact()\n",
    "    feature_impacts = impact_job.get_result_when_complete(max_wait=wait_for_impact)\n",
    "\n",
    "feature_impacts.sort(key = lambda x: x['impactNormalized'], reverse=True)\n",
    "FeatureImpactDF = pd.DataFrame([{\n",
    "    'Feature Name': f['featureName'],\n",
    "    'Impact Normalized': f['impactNormalized']\n",
    "} for f in feature_impacts[:max_num_features]])\n"
   ]
  },
  {
   "cell_type": "code",
   "execution_count": 14,
   "id": "5d3b5df7",
   "metadata": {},
   "outputs": [
    {
     "data": {
      "text/html": [
       "<div>\n",
       "<style scoped>\n",
       "    .dataframe tbody tr th:only-of-type {\n",
       "        vertical-align: middle;\n",
       "    }\n",
       "\n",
       "    .dataframe tbody tr th {\n",
       "        vertical-align: top;\n",
       "    }\n",
       "\n",
       "    .dataframe thead th {\n",
       "        text-align: right;\n",
       "    }\n",
       "</style>\n",
       "<table border=\"1\" class=\"dataframe\">\n",
       "  <thead>\n",
       "    <tr style=\"text-align: right;\">\n",
       "      <th></th>\n",
       "      <th>Feature Name</th>\n",
       "      <th>Impact Normalized</th>\n",
       "    </tr>\n",
       "  </thead>\n",
       "  <tbody>\n",
       "    <tr>\n",
       "      <th>0</th>\n",
       "      <td>weight</td>\n",
       "      <td>1.000000</td>\n",
       "    </tr>\n",
       "    <tr>\n",
       "      <th>1</th>\n",
       "      <td>model year</td>\n",
       "      <td>0.463768</td>\n",
       "    </tr>\n",
       "    <tr>\n",
       "      <th>2</th>\n",
       "      <td>displacement</td>\n",
       "      <td>0.141466</td>\n",
       "    </tr>\n",
       "    <tr>\n",
       "      <th>3</th>\n",
       "      <td>horsepower</td>\n",
       "      <td>0.080401</td>\n",
       "    </tr>\n",
       "    <tr>\n",
       "      <th>4</th>\n",
       "      <td>origin</td>\n",
       "      <td>0.068158</td>\n",
       "    </tr>\n",
       "    <tr>\n",
       "      <th>5</th>\n",
       "      <td>cylinders</td>\n",
       "      <td>0.031710</td>\n",
       "    </tr>\n",
       "    <tr>\n",
       "      <th>6</th>\n",
       "      <td>acceleration</td>\n",
       "      <td>0.022802</td>\n",
       "    </tr>\n",
       "  </tbody>\n",
       "</table>\n",
       "</div>"
      ],
      "text/plain": [
       "   Feature Name  Impact Normalized\n",
       "0        weight           1.000000\n",
       "1    model year           0.463768\n",
       "2  displacement           0.141466\n",
       "3    horsepower           0.080401\n",
       "4        origin           0.068158\n",
       "5     cylinders           0.031710\n",
       "6  acceleration           0.022802"
      ]
     },
     "execution_count": 14,
     "metadata": {},
     "output_type": "execute_result"
    }
   ],
   "source": [
    "FeatureImpactDF"
   ]
  },
  {
   "cell_type": "code",
   "execution_count": 15,
   "id": "7baa3273",
   "metadata": {},
   "outputs": [
    {
     "data": {
      "text/plain": [
       "<Axes: xlabel='Impact Normalized', ylabel='X_axis'>"
      ]
     },
     "execution_count": 15,
     "metadata": {},
     "output_type": "execute_result"
    },
    {
     "data": {
      "image/png": "[encoded data removed]",
      "text/plain": [
       "<Figure size 500x500 with 1 Axes>"
      ]
     },
     "metadata": {},
     "output_type": "display_data"
    }
   ],
   "source": [
    "import matplotlib.pyplot as plt\n",
    "import seaborn as sns\n",
    "\n",
    "# Graph of feature impact based on impactNormalized\n",
    "FeatureImpactDF['X_axis'] = FeatureImpactDF.index\n",
    "g = sns.lmplot(x='Impact Normalized', y='X_axis', data=FeatureImpactDF, fit_reg=False)\n",
    "sns.barplot(y=FeatureImpactDF['Feature Name'], x=FeatureImpactDF['Impact Normalized'])"
   ]
  },
  {
   "cell_type": "markdown",
   "id": "849cb0cc",
   "metadata": {},
   "source": [
    "### View Feature Effects"
   ]
  },
  {
   "cell_type": "code",
   "execution_count": 16,
   "id": "6ae2c758",
   "metadata": {},
   "outputs": [
    {
     "data": {
      "text/plain": [
       "FeatureEffects(project_id=6845a60d47cd8293e1cf0840,model_id=6845a75d468409e60580c6f6, source=validation, data_slice_id=None,backtest_index=None, feature_effects=[{'feature_name': 'weight', 'feature_impact_score': 1.0, 'feature_type': 'numeric', 'partial_dependence': {'is_capped': True, 'data': [{'label': '1832.2', 'dependence': 31.209625570602075}, {'label': '1841.4', 'dependence': 31.151016283042793}, {'label': '1891', 'dependence': 30.835038015222548}, {'label': '1937.6', 'dependence': 30.538171751484043}, {'label': '1950', 'dependence': 30.459177184528983}, {'label': '1965', 'dependence': 30.36361909527593}, {'label': '1975', 'dependence': 30.299913809726984}, {'label': '1985', 'dependence': 30.23620852417804}, {'label': '1991', 'dependence': 30.197985159733108}, {'label': '2019', 'dependence': 30.01961042456792}, {'label': '2043', 'dependence': 29.86671761050674}, {'label': '2050.6', 'dependence': 29.920953777548995}, {'label': '2071.6', 'dependence': 30.049754791011324}, {'label': '2101.6', 'dependence': 29.858638934364492}, {'label': '2120', 'dependence': 29.741421646683058}, {'label': '2125', 'dependence': 29.70956916483823}, {'label': '2130', 'dependence': 29.677716361134117}, {'label': '2138.6', 'dependence': 29.62292915253191}, {'label': '2155', 'dependence': 29.518453308191397}, {'label': '2160', 'dependence': 29.172662585308018}, {'label': '2184.6', 'dependence': 29.01594704857121}, {'label': '2196', 'dependence': 28.943323686075534}, {'label': '2212', 'dependence': 28.84139503608165}, {'label': '2220.6', 'dependence': 27.90415011970977}, {'label': '2230', 'dependence': 27.84426787869573}, {'label': '2252.4', 'dependence': 27.70156866991029}, {'label': '2265', 'dependence': 27.621299218344788}, {'label': '2282.6', 'dependence': 27.50917728493446}, {'label': '2300', 'dependence': 27.398330557993845}, {'label': '2320', 'dependence': 27.270919986895954}, {'label': '2366', 'dependence': 26.977875802114525}, {'label': '2379.6', 'dependence': 26.891235789808203}, {'label': '2395', 'dependence': 26.793130345278875}, {'label': '2408', 'dependence': 26.710313377507468}, {'label': '2434', 'dependence': 26.544679602894284}, {'label': '2485.6', 'dependence': 26.21595973080347}, {'label': '2509', 'dependence': 26.066889961277205}, {'label': '2542', 'dependence': 25.856662422407904}, {'label': '2561', 'dependence': 25.7356222511212}, {'label': '2582', 'dependence': 25.593248063464756}, {'label': '2594.4', 'dependence': 25.514254140228253}, {'label': '2618', 'dependence': 25.363909083767446}, {'label': '2636.6', 'dependence': 25.245416589616298}, {'label': '2661', 'dependence': 25.324285359979577}, {'label': '2671', 'dependence': 25.260580074430635}, {'label': '2698.8', 'dependence': 25.08347901690358}, {'label': '2720', 'dependence': 24.39562968164676}, {'label': '2742', 'dependence': 24.25547802929964}, {'label': '2789.2', 'dependence': 23.954789294338074}, {'label': '2807', 'dependence': 23.841393550019745}, {'label': '2834.6', 'dependence': 23.66556629334259}, {'label': '2869.2', 'dependence': 23.445146879191192}, {'label': '2900.4', 'dependence': 23.246386663468172}, {'label': '2910.8', 'dependence': 23.180132212184503}, {'label': '2933.0000000000005', 'dependence': 23.038706721269605}, {'label': '2949', 'dependence': 22.936778232205363}, {'label': '2963.8', 'dependence': 22.842494142449723}, {'label': '2995.2', 'dependence': 22.64246004792652}, {'label': '3023.7999999999997', 'dependence': 22.460262348691245}, {'label': '3070', 'dependence': 22.165944083947576}, {'label': '3117.2', 'dependence': 21.865255419392728}, {'label': '3153', 'dependence': 21.63719011733356}, {'label': '3177.4', 'dependence': 21.48174978706647}, {'label': '3210.2', 'dependence': 21.272796167229767}, {'label': '3233', 'dependence': 21.12754767201237}, {'label': '3264.8', 'dependence': 20.924964612916487}, {'label': '3285.6000000000004', 'dependence': 20.79713527433038}, {'label': '3342.8000000000006', 'dependence': 20.432741324226583}, {'label': '3380.2', 'dependence': 20.194484026188086}, {'label': '3410', 'dependence': 20.004642088573853}, {'label': '3425', 'dependence': 19.913586626680985}, {'label': '3434.7999999999997', 'dependence': 19.85115526016464}, {'label': '3453', 'dependence': 19.7352118915158}, {'label': '3521', 'dependence': 19.30201569229556}, {'label': '3563', 'dependence': 19.03445342861814}, {'label': '3608.2', 'dependence': 18.746505885544934}, {'label': '3631.2', 'dependence': 18.599983632224582}, {'label': '3667.2000000000003', 'dependence': 18.370644732992098}, {'label': '3725', 'dependence': 18.002427416494115}, {'label': '3755', 'dependence': 17.81131188170657}, {'label': '3784.2', 'dependence': 17.62529266676796}, {'label': '3835.9999999999995', 'dependence': 17.295298714714914}, {'label': '3884.7999999999997', 'dependence': 16.984416766743617}, {'label': '3913.5999999999995', 'dependence': 16.800945389870204}, {'label': '3962', 'dependence': 16.49261192368266}, {'label': '4054.8', 'dependence': 15.901426590552294}, {'label': '4081.2', 'dependence': 16.903342622629246}, {'label': '4111.599999999999', 'dependence': 16.70967731862082}, {'label': '4143.599999999999', 'dependence': 16.505820018633063}, {'label': '4209', 'dependence': 16.08918798542938}, {'label': '4233.6', 'dependence': 15.932472770551854}, {'label': '4287.6', 'dependence': 16.16427835650325}, {'label': '4329', 'dependence': 15.900539137360742}, {'label': '4360.6', 'dependence': 15.699229675438179}, {'label': '4382', 'dependence': 15.757574895393894}, {'label': '4437', 'dependence': 15.407195663945062}, {'label': '4464', 'dependence': 15.235191489520698}, {'label': '4547.199999999997', 'dependence': 15.047052649196887}, {'label': '4654.6', 'dependence': 14.362858352315783}, {'label': 'nan', 'dependence': 23.79042931051668}]}, 'predicted_vs_actual': {'is_capped': False, 'data': [{'row_count': 2, 'label': '[ 1613, 1780 )', 'bin': ['1613', '1780'], 'predicted': 63.61698789116622, 'actual': 66.0}, {'row_count': 2, 'label': '[ 1780, 1947 )', 'bin': ['1780', '1947'], 'predicted': 67.77309407367864, 'actual': 76.6}, {'row_count': 5, 'label': '[ 1947, 2114 )', 'bin': ['1947', '2114'], 'predicted': 165.4506163485903, 'actual': 154.8}, {'row_count': 6, 'label': '[ 2114, 2281 )', 'bin': ['2114', '2281'], 'predicted': 173.46678724963786, 'actual': 162.0}, {'row_count': 5, 'label': '[ 2281, 2448 )', 'bin': ['2281', '2448'], 'predicted': 145.14702491032435, 'actual': 130.8}, {'row_count': 3, 'label': '[ 2448, 2616 )', 'bin': ['2448', '2616'], 'predicted': 81.89711267970785, 'actual': 79.0}, {'row_count': 9, 'label': '[ 2616, 2783 )', 'bin': ['2616', '2783'], 'predicted': 219.98581117264732, 'actual': 230.7}, {'row_count': 4, 'label': '[ 2783, 2950 )', 'bin': ['2783', '2950'], 'predicted': 92.74714661575322, 'actual': 96.30000000000001}, {'row_count': 4, 'label': '[ 2950, 3117 )', 'bin': ['2950', '3117'], 'predicted': 93.5867593798658, 'actual': 95.3}, {'row_count': 4, 'label': '[ 3117, 3284 )', 'bin': ['3117', '3284'], 'predicted': 83.82475379269928, 'actual': 76.1}, {'row_count': 2, 'label': '[ 3284, 3451 )', 'bin': ['3284', '3451'], 'predicted': 34.39656028567431, 'actual': 37.0}, {'row_count': 1, 'label': '[ 3451, 3618 )', 'bin': ['3451', '3618'], 'predicted': 15.191451421279076, 'actual': 18.0}, {'row_count': 5, 'label': '[ 3618, 3785 )', 'bin': ['3618', '3785'], 'predicted': 90.61070154922588, 'actual': 92.6}, {'row_count': 1, 'label': '[ 3785, 3952 )', 'bin': ['3785', '3952'], 'predicted': 16.652584131906625, 'actual': 13.0}, {'row_count': 2, 'label': '[ 3952, 4120 )', 'bin': ['3952', '4120'], 'predicted': 31.858502198585402, 'actual': 30.0}, {'row_count': 0, 'label': '[ 4120, 4287 )', 'bin': ['4120', '4287'], 'predicted': None, 'actual': None}, {'row_count': 4, 'label': '[ 4287, 4454 )', 'bin': ['4287', '4454'], 'predicted': 53.249335993322575, 'actual': 57.0}, {'row_count': 1, 'label': '[ 4454, 4621 )', 'bin': ['4454', '4621'], 'predicted': 13.27585851561028, 'actual': 14.0}, {'row_count': 2, 'label': '[ 4621, 4788 )', 'bin': ['4621', '4788'], 'predicted': 25.976617084578667, 'actual': 27.0}, {'row_count': 2, 'label': '[ 4788, 4955 ]', 'bin': ['4788', '4955'], 'predicted': 19.540639623036938, 'actual': 24.0}]}, 'weight_label': None, 'is_scalable': True, 'is_binnable': True}, {'feature_name': 'model year', 'feature_impact_score': 0.4637679031455361, 'feature_type': 'numeric', 'partial_dependence': {'is_capped': False, 'data': [{'label': '70', 'dependence': 19.90560852880232}, {'label': '71', 'dependence': 20.65145212940024}, {'label': '72', 'dependence': 19.731160062406495}, {'label': '73', 'dependence': 20.450315015571796}, {'label': '74', 'dependence': 21.196158616169722}, {'label': '75', 'dependence': 21.942002135022115}, {'label': '76', 'dependence': 22.68784565387451}, {'label': '77', 'dependence': 23.441365158969646}, {'label': '78', 'dependence': 24.24410144542254}, {'label': '79', 'dependence': 25.767054410223892}, {'label': '80', 'dependence': 27.725502212025944}, {'label': '81', 'dependence': 27.28199053575599}, {'label': '82', 'dependence': 28.027834136353917}, {'label': 'nan', 'dependence': 22.68784565387451}]}, 'predicted_vs_actual': {'is_capped': False, 'data': [{'row_count': 4, 'label': '70', 'bin': ['70', '70'], 'predicted': 71.37009869535461, 'actual': 83.0}, {'row_count': 6, 'label': '71', 'bin': ['71', '71'], 'predicted': 128.34063656013234, 'actual': 139.0}, {'row_count': 2, 'label': '72', 'bin': ['72', '72'], 'predicted': 23.823362789834285, 'actual': 24.0}, {'row_count': 5, 'label': '73', 'bin': ['73', '73'], 'predicted': 111.13428161343751, 'actual': 100.0}, {'row_count': 7, 'label': '74', 'bin': ['74', '74'], 'predicted': 151.40215624503776, 'actual': 153.0}, {'row_count': 8, 'label': '75', 'bin': ['75', '75'], 'predicted': 151.9339210244855, 'actual': 155.0}, {'row_count': 5, 'label': '76', 'bin': ['76', '76'], 'predicted': 96.03300947106712, 'actual': 89.0}, {'row_count': 5, 'label': '77', 'bin': ['77', '77'], 'predicted': 114.48964612214266, 'actual': 112.5}, {'row_count': 6, 'label': '78', 'bin': ['78', '78'], 'predicted': 152.23302056569872, 'actual': 139.1}, {'row_count': 1, 'label': '79', 'bin': ['79', '79'], 'predicted': 24.46115005698341, 'actual': 26.8}, {'row_count': 4, 'label': '80', 'bin': ['80', '80'], 'predicted': 124.46771986500694, 'actual': 125.30000000000001}, {'row_count': 4, 'label': '81', 'bin': ['81', '81'], 'predicted': 123.56745293031088, 'actual': 118.5}, {'row_count': 7, 'label': '82', 'bin': ['82', '82'], 'predicted': 214.99188897779888, 'actual': 215.0}]}, 'weight_label': None, 'is_scalable': True, 'is_binnable': False}, {'feature_name': 'displacement', 'feature_impact_score': 0.14146574127230171, 'feature_type': 'numeric', 'partial_dependence': {'is_capped': False, 'data': [{'label': '68', 'dependence': 21.430434198416606}, {'label': '70', 'dependence': 21.46115689802492}, {'label': '71', 'dependence': 21.47651820009471}, {'label': '72', 'dependence': 21.491879502164494}, {'label': '76', 'dependence': 21.55332471044364}, {'label': '78', 'dependence': 21.584047314583213}, {'label': '79', 'dependence': 21.599408616653}, {'label': '80', 'dependence': 22.12207355041435}, {'label': '81', 'dependence': 22.137434852484134}, {'label': '83', 'dependence': 22.168157456623703}, {'label': '85', 'dependence': 22.19888006076328}, {'label': '86', 'dependence': 22.214241362833064}, {'label': '88', 'dependence': 22.24496396697264}, {'label': '89', 'dependence': 21.991815591925977}, {'label': '90', 'dependence': 22.007176893995762}, {'label': '91', 'dependence': 21.936128459110726}, {'label': '96', 'dependence': 22.0129350649284}, {'label': '97', 'dependence': 22.02829636699819}, {'label': '97.5', 'dependence': 22.167025047257347}, {'label': '98', 'dependence': 22.174705698292243}, {'label': '100', 'dependence': 22.205428302431812}, {'label': '101', 'dependence': 22.2207896045016}, {'label': '104', 'dependence': 22.266873510710962}, {'label': '105', 'dependence': 22.28223481278075}, {'label': '107', 'dependence': 22.312957416920323}, {'label': '108', 'dependence': 22.16819389352952}, {'label': '110', 'dependence': 22.198916545403463}, {'label': '111', 'dependence': 22.214277847473248}, {'label': '112', 'dependence': 22.22963914954304}, {'label': '113', 'dependence': 21.97551281736518}, {'label': '114', 'dependence': 21.990874119434963}, {'label': '115', 'dependence': 22.00623542150475}, {'label': '116', 'dependence': 22.02159672357454}, {'label': '119', 'dependence': 22.0676806297839}, {'label': '120', 'dependence': 22.083041931853685}, {'label': '121', 'dependence': 22.09840323392347}, {'label': '122', 'dependence': 22.11376458372763}, {'label': '130', 'dependence': 22.23665500028593}, {'label': '131', 'dependence': 22.2520163262229}, {'label': '134', 'dependence': 22.298100232432255}, {'label': '135', 'dependence': 22.313461534502046}, {'label': '140', 'dependence': 22.337537073969056}, {'label': '141', 'dependence': 22.352898387972434}, {'label': '144', 'dependence': 22.398982306115386}, {'label': '145', 'dependence': 22.414343608185174}, {'label': '146', 'dependence': 22.42970491622176}, {'label': '151', 'dependence': 22.50651144447108}, {'label': '155', 'dependence': 22.567956670650617}, {'label': '156', 'dependence': 22.583317972720405}, {'label': '163', 'dependence': 22.690847117042892}, {'label': '168', 'dependence': 22.767653651259014}, {'label': '171', 'dependence': 22.81373755746837}, {'label': '173', 'dependence': 22.844460185475132}, {'label': '181', 'dependence': 22.967350649767795}, {'label': '183', 'dependence': 22.99807325390737}, {'label': '198', 'dependence': 23.228492832688545}, {'label': '199', 'dependence': 23.24385413475833}, {'label': '200', 'dependence': 23.249396556370854}, {'label': '225', 'dependence': 23.633429203584264}, {'label': '231', 'dependence': 23.725597016002983}, {'label': '232', 'dependence': 23.728692833466695}, {'label': '250', 'dependence': 24.005196366191598}, {'label': '258', 'dependence': 24.128086782749897}, {'label': '260', 'dependence': 24.282762836650022}, {'label': '262', 'dependence': 24.31348544078959}, {'label': '267', 'dependence': 24.39029195113853}, {'label': '302', 'dependence': 24.927937714518546}, {'label': '304', 'dependence': 25.10458127160115}, {'label': '305', 'dependence': 25.119942573670933}, {'label': '307', 'dependence': 25.15066517781051}, {'label': '318', 'dependence': 25.319639691515643}, {'label': '340', 'dependence': 25.657588337050953}, {'label': '350', 'dependence': 25.81120135774882}, {'label': '351', 'dependence': 25.826562659818613}, {'label': '360', 'dependence': 26.001159590813398}, {'label': '383', 'dependence': 26.3544695384185}, {'label': '390', 'dependence': 26.727476822805738}, {'label': '400', 'dependence': 26.881089843503602}, {'label': '429', 'dependence': 27.326567603527423}, {'label': '440', 'dependence': 27.495541926295083}, {'label': '454', 'dependence': 27.710600155272097}, {'label': '455', 'dependence': 27.725961457341885}, {'label': 'nan', 'dependence': 22.50651144447108}]}, 'predicted_vs_actual': {'is_capped': False, 'data': [{'row_count': 6, 'label': '[ 70, 89 )', 'bin': ['70', '89'], 'predicted': 182.97422114017397, 'actual': 169.7}, {'row_count': 7, 'label': '[ 89, 108 )', 'bin': ['89', '108'], 'predicted': 244.29339865153682, 'actual': 238.4}, {'row_count': 14, 'label': '[ 108, 128 )', 'bin': ['108', '128'], 'predicted': 344.46376263316233, 'actual': 342.7}, {'row_count': 5, 'label': '[ 128, 147 )', 'bin': ['128', '147'], 'predicted': 127.30263191342539, 'actual': 129.1}, {'row_count': 5, 'label': '[ 147, 166 )', 'bin': ['147', '166'], 'predicted': 134.84558447695076, 'actual': 127.1}, {'row_count': 2, 'label': '[ 166, 186 )', 'bin': ['166', '186'], 'predicted': 51.28442761956221, 'actual': 59.5}, {'row_count': 2, 'label': '[ 186, 205 )', 'bin': ['186', '205'], 'predicted': 39.80660892144941, 'actual': 44.0}, {'row_count': 0, 'label': '[ 205, 224 )', 'bin': ['205', '224'], 'predicted': None, 'actual': None}, {'row_count': 4, 'label': '[ 224, 243 )', 'bin': ['224', '243'], 'predicted': 76.25310462691063, 'actual': 76.0}, {'row_count': 5, 'label': '[ 243, 262 )', 'bin': ['243', '262'], 'predicted': 81.39112334583406, 'actual': 83.0}, {'row_count': 0, 'label': '[ 262, 282 )', 'bin': ['262', '282'], 'predicted': None, 'actual': None}, {'row_count': 0, 'label': '[ 282, 301 )', 'bin': ['282', '301'], 'predicted': None, 'actual': None}, {'row_count': 6, 'label': '[ 301, 320 )', 'bin': ['301', '320'], 'predicted': 94.5937748824666, 'actual': 91.1}, {'row_count': 0, 'label': '[ 320, 340 )', 'bin': ['320', '340'], 'predicted': None, 'actual': None}, {'row_count': 3, 'label': '[ 340, 359 )', 'bin': ['340', '359'], 'predicted': 53.577630698304404, 'actual': 54.6}, {'row_count': 0, 'label': '[ 359, 378 )', 'bin': ['359', '378'], 'predicted': None, 'actual': None}, {'row_count': 1, 'label': '[ 378, 397 )', 'bin': ['378', '397'], 'predicted': 8.80491920041882, 'actual': 12.0}, {'row_count': 1, 'label': '[ 397, 416 )', 'bin': ['397', '416'], 'predicted': 14.075683908264887, 'actual': 16.0}, {'row_count': 1, 'label': '[ 416, 436 )', 'bin': ['416', '436'], 'predicted': 11.90093317631378, 'actual': 11.0}, {'row_count': 2, 'label': '[ 436, 455 ]', 'bin': ['436', '455'], 'predicted': 22.680539722516514, 'actual': 26.0}]}, 'weight_label': None, 'is_scalable': True, 'is_binnable': True}, {'feature_name': 'horsepower', 'feature_impact_score': 0.08040088535569735, 'feature_type': 'numeric', 'partial_dependence': {'is_capped': False, 'data': [{'label': '46', 'dependence': 25.696303233630776}, {'label': '48', 'dependence': 25.66310959453948}, {'label': '49', 'dependence': 25.646512737177787}, {'label': '52', 'dependence': 25.596722240724798}, {'label': '53', 'dependence': 24.902240645998383}, {'label': '54', 'dependence': 24.885643864268783}, {'label': '58', 'dependence': 24.8192565104541}, {'label': '60', 'dependence': 24.72647880576829}, {'label': '61', 'dependence': 24.79755131141789}, {'label': '62', 'dependence': 24.78095449187224}, {'label': '63', 'dependence': 24.76435767232659}, {'label': '64', 'dependence': 24.7477608149649}, {'label': '65', 'dependence': 24.73116399541925}, {'label': '66', 'dependence': 24.680777367449444}, {'label': '67', 'dependence': 24.66418051008775}, {'label': '68', 'dependence': 24.64031459500826}, {'label': '69', 'dependence': 24.62371777546261}, {'label': '70', 'dependence': 24.60712095591696}, {'label': '71', 'dependence': 23.997879599616265}, {'label': '72', 'dependence': 23.97675250026932}, {'label': '74', 'dependence': 23.943558823361975}, {'label': '75', 'dependence': 23.926962003816328}, {'label': '76', 'dependence': 24.02794896469225}, {'label': '77', 'dependence': 24.011352126238577}, {'label': '78', 'dependence': 23.994755287784905}, {'label': '79', 'dependence': 23.978158468239258}, {'label': '80', 'dependence': 23.96156162978559}, {'label': '81', 'dependence': 23.94496479133192}, {'label': '83', 'dependence': 23.9117711333326}, {'label': '84', 'dependence': 23.89517431378695}, {'label': '85', 'dependence': 23.468326108226687}, {'label': '86', 'dependence': 23.451729279227024}, {'label': '87', 'dependence': 23.435132450227364}, {'label': '88', 'dependence': 23.418535611773695}, {'label': '89', 'dependence': 23.40193878277404}, {'label': '90', 'dependence': 23.38534195377438}, {'label': '91', 'dependence': 23.36874512477472}, {'label': '92', 'dependence': 23.352148291048053}, {'label': '93', 'dependence': 23.328027108417174}, {'label': '94', 'dependence': 23.31143027705401}, {'label': '95', 'dependence': 23.29483344569085}, {'label': '96', 'dependence': 23.124837466386225}, {'label': '97', 'dependence': 23.108240635023066}, {'label': '98', 'dependence': 23.091643806023406}, {'label': '100', 'dependence': 23.05845014329708}, {'label': '102', 'dependence': 23.02525648529776}, {'label': '103', 'dependence': 23.00865964684409}, {'label': '105', 'dependence': 22.975465988844768}, {'label': '107', 'dependence': 22.94227233084545}, {'label': '108', 'dependence': 22.925675492391782}, {'label': '110', 'dependence': 22.89248183439246}, {'label': '112', 'dependence': 22.859288176393143}, {'label': '113', 'dependence': 22.84269133793947}, {'label': '115', 'dependence': 22.80949767994015}, {'label': '116', 'dependence': 22.773635598601672}, {'label': '120', 'dependence': 22.70724824478699}, {'label': '122', 'dependence': 22.67405460569569}, {'label': '125', 'dependence': 22.624264109242702}, {'label': '129', 'dependence': 22.557876793244063}, {'label': '130', 'dependence': 22.54127993588237}, {'label': '132', 'dependence': 22.508086296791074}, {'label': '133', 'dependence': 22.49148943942938}, {'label': '135', 'dependence': 22.45829580033808}, {'label': '137', 'dependence': 22.425102161246787}, {'label': '138', 'dependence': 22.408505303885093}, {'label': '139', 'dependence': 22.587454577748552}, {'label': '140', 'dependence': 22.57085779601895}, {'label': '142', 'dependence': 22.53766408129556}, {'label': '145', 'dependence': 22.48787358484257}, {'label': '148', 'dependence': 22.769788477861763}, {'label': '149', 'dependence': 22.753191696132163}, {'label': '150', 'dependence': 22.736594838770465}, {'label': '152', 'dependence': 22.70340119967917}, {'label': '153', 'dependence': 22.686804342317476}, {'label': '155', 'dependence': 22.653610703226178}, {'label': '158', 'dependence': 22.60382020677319}, {'label': '160', 'dependence': 22.570626567681895}, {'label': '165', 'dependence': 22.487642356505514}, {'label': '167', 'dependence': 22.479162920094158}, {'label': '170', 'dependence': 22.429372423641166}, {'label': '175', 'dependence': 22.34638828809688}, {'label': '180', 'dependence': 22.263404152552592}, {'label': '190', 'dependence': 22.097435881464015}, {'label': '193', 'dependence': 22.047645309378936}, {'label': '198', 'dependence': 21.96466117383465}, {'label': '200', 'dependence': 21.931467459111264}, {'label': '208', 'dependence': 21.798692902746076}, {'label': '210', 'dependence': 21.765499188022687}, {'label': '215', 'dependence': 21.682515052478404}, {'label': '220', 'dependence': 21.599530916934114}, {'label': '225', 'dependence': 21.51654678138983}, {'label': '230', 'dependence': 21.433562645845544}, {'label': 'nan', 'dependence': 24.056923717471996}]}, 'predicted_vs_actual': {'is_capped': False, 'data': [{'row_count': 1, 'label': '[ 52, 61 )', 'bin': ['52', '61'], 'predicted': 32.32653572427772, 'actual': 31.0}, {'row_count': 6, 'label': '[ 61, 69 )', 'bin': ['61', '69'], 'predicted': 206.31705874774616, 'actual': 201.4}, {'row_count': 5, 'label': '[ 69, 78 )', 'bin': ['69', '78'], 'predicted': 154.12089579879, 'actual': 158.0}, {'row_count': 4, 'label': '[ 78, 87 )', 'bin': ['78', '87'], 'predicted': 102.8526560306956, 'actual': 102.6}, {'row_count': 11, 'label': '[ 87, 95 )', 'bin': ['87', '95'], 'predicted': 268.5995798998499, 'actual': 258.4}, {'row_count': 13, 'label': '[ 95, 104 )', 'bin': ['95', '104'], 'predicted': 304.557529548998, 'actual': 290.8}, {'row_count': 6, 'label': '[ 104, 113 )', 'bin': ['104', '113'], 'predicted': 117.02184520808964, 'actual': 121.8}, {'row_count': 4, 'label': '[ 113, 121 )', 'bin': ['113', '121'], 'predicted': 93.59649128394656, 'actual': 99.4}, {'row_count': 0, 'label': '[ 121, 130 )', 'bin': ['121', '130'], 'predicted': None, 'actual': None}, {'row_count': 4, 'label': '[ 130, 138 )', 'bin': ['130', '138'], 'predicted': 74.00771901397802, 'actual': 78.7}, {'row_count': 4, 'label': '[ 138, 147 )', 'bin': ['138', '147'], 'predicted': 64.11009913779468, 'actual': 59.1}, {'row_count': 1, 'label': '[ 147, 156 )', 'bin': ['147', '156'], 'predicted': 13.27585851561028, 'actual': 14.0}, {'row_count': 0, 'label': '[ 156, 164 )', 'bin': ['156', '164'], 'predicted': None, 'actual': None}, {'row_count': 1, 'label': '[ 164, 173 )', 'bin': ['164', '173'], 'predicted': 14.075683908264887, 'actual': 16.0}, {'row_count': 1, 'label': '[ 173, 182 )', 'bin': ['173', '182'], 'predicted': 8.80491920041882, 'actual': 12.0}, {'row_count': 0, 'label': '[ 182, 190 )', 'bin': ['182', '190'], 'predicted': None, 'actual': None}, {'row_count': 0, 'label': '[ 190, 199 )', 'bin': ['190', '199'], 'predicted': None, 'actual': None}, {'row_count': 0, 'label': '[ 199, 208 )', 'bin': ['199', '208'], 'predicted': None, 'actual': None}, {'row_count': 1, 'label': '[ 208, 216 )', 'bin': ['208', '216'], 'predicted': 11.90093317631378, 'actual': 11.0}, {'row_count': 2, 'label': '[ 216, 225 ]', 'bin': ['216', '225'], 'predicted': 22.680539722516514, 'actual': 26.0}]}, 'weight_label': None, 'is_scalable': True, 'is_binnable': True}, {'feature_name': 'origin', 'feature_impact_score': 0.06815799783955144, 'feature_type': 'numeric', 'partial_dependence': {'is_capped': False, 'data': [{'label': '1', 'dependence': 22.35899328843729}, {'label': '2', 'dependence': 23.866029202486335}, {'label': '3', 'dependence': 24.704957125517915}, {'label': 'nan', 'dependence': 22.35899328843729}]}, 'predicted_vs_actual': {'is_capped': False, 'data': [{'row_count': 35, 'label': '1', 'bin': ['1', '1'], 'predicted': 668.7709736476721, 'actual': 678.7}, {'row_count': 11, 'label': '2', 'bin': ['2', '2'], 'predicted': 262.78765485660205, 'actual': 269.6}, {'row_count': 18, 'label': '3', 'bin': ['3', '3'], 'predicted': 556.6897164130164, 'actual': 531.9}]}, 'weight_label': None, 'is_scalable': True, 'is_binnable': False}, {'feature_name': 'cylinders', 'feature_impact_score': 0.031709693765784336, 'feature_type': 'numeric', 'partial_dependence': {'is_capped': False, 'data': [{'label': '3', 'dependence': 24.000151365227545}, {'label': '4', 'dependence': 23.697711372677823}, {'label': '5', 'dependence': 23.189374436541947}, {'label': '6', 'dependence': 22.886934443992224}, {'label': '8', 'dependence': 22.48858079157535}, {'label': 'nan', 'dependence': 23.697711372677823}]}, 'predicted_vs_actual': {'is_capped': False, 'data': [{'row_count': 2, 'label': '3', 'bin': ['3', '3'], 'predicted': 61.26671086079408, 'actual': 41.7}, {'row_count': 35, 'label': '4', 'bin': ['4', '4'], 'predicted': 972.6128879544552, 'actual': 965.3}, {'row_count': 0, 'label': '5', 'bin': ['5', '5'], 'predicted': None, 'actual': None}, {'row_count': 12, 'label': '6', 'bin': ['6', '6'], 'predicted': 232.81170535581833, 'actual': 245.5}, {'row_count': 0, 'label': '7', 'bin': ['7', '7'], 'predicted': None, 'actual': None}, {'row_count': 15, 'label': '8', 'bin': ['8', '8'], 'predicted': 221.557040746223, 'actual': 227.7}]}, 'weight_label': None, 'is_scalable': True, 'is_binnable': False}, {'feature_name': 'acceleration', 'feature_impact_score': 0.022802134440966505, 'feature_type': 'numeric', 'partial_dependence': {'is_capped': True, 'data': [{'label': '10', 'dependence': 23.15194419671969}, {'label': '10.5', 'dependence': 23.183667155795213}, {'label': '11', 'dependence': 23.21539013567126}, {'label': '11.1', 'dependence': 23.22173475244699}, {'label': '11.2', 'dependence': 23.228079306821158}, {'label': '11.3', 'dependence': 23.23442392359689}, {'label': '11.4', 'dependence': 23.240768498771576}, {'label': '11.5', 'dependence': 23.247113115547307}, {'label': '11.6', 'dependence': 23.25345773232304}, {'label': '12', 'dependence': 23.27883607462283}, {'label': '12.1', 'dependence': 23.017540123026365}, {'label': '12.2', 'dependence': 23.023884698201055}, {'label': '12.5', 'dependence': 23.04291848612668}, {'label': '12.6', 'dependence': 23.04926310290241}, {'label': '12.8', 'dependence': 23.06195228445257}, {'label': '12.9', 'dependence': 23.068296838826733}, {'label': '13', 'dependence': 23.074641455602467}, {'label': '13.2', 'dependence': 23.087330637152625}, {'label': '13.4', 'dependence': 23.036259834733983}, {'label': '13.5', 'dependence': 23.042604461909974}, {'label': '13.6', 'dependence': 23.048949078685702}, {'label': '13.7', 'dependence': 23.05529363305987}, {'label': '13.8', 'dependence': 23.061638249835603}, {'label': '13.9', 'dependence': 23.067982814610026}, {'label': '14', 'dependence': 23.074327431385758}, {'label': '14.1', 'dependence': 23.08067204816149}, {'label': '14.2', 'dependence': 23.087016607735784}, {'label': '14.3', 'dependence': 23.093361229711647}, {'label': '14.4', 'dependence': 23.11159051898843}, {'label': '14.5', 'dependence': 23.117935140964285}, {'label': '14.7', 'dependence': 23.130624317314314}, {'label': '14.8', 'dependence': 23.13696893409005}, {'label': '14.9', 'dependence': 23.143313493664344}, {'label': '15', 'dependence': 23.14965811304014}, {'label': '15.1', 'dependence': 23.13624919064553}, {'label': '15.2', 'dependence': 23.142593750219824}, {'label': '15.3', 'dependence': 23.14893836829559}, {'label': '15.4', 'dependence': 23.155282927219865}, {'label': '15.5', 'dependence': 23.16162754594565}, {'label': '15.6', 'dependence': 23.167972164671426}, {'label': '15.7', 'dependence': 23.174316723595705}, {'label': '15.8', 'dependence': 23.188094636736892}, {'label': '15.9', 'dependence': 23.19443919631119}, {'label': '16', 'dependence': 23.20078381308692}, {'label': '16.1', 'dependence': 23.20712843246272}, {'label': '16.2', 'dependence': 23.213473049238452}, {'label': '16.4', 'dependence': 23.22616216838704}, {'label': '16.5', 'dependence': 23.232506785162776}, {'label': '16.6', 'dependence': 23.238851407138636}, {'label': '16.7', 'dependence': 23.245196023914367}, {'label': '16.8', 'dependence': 23.29622257041426}, {'label': '16.9', 'dependence': 23.30256719239012}, {'label': '17', 'dependence': 23.437461690788396}, {'label': '17.1', 'dependence': 23.443806307564124}, {'label': '17.2', 'dependence': 23.45015092433986}, {'label': '17.3', 'dependence': 23.45649542671272}, {'label': '17.4', 'dependence': 23.46284004348845}, {'label': '17.5', 'dependence': 23.46918466026418}, {'label': '17.6', 'dependence': 23.47552928744017}, {'label': '17.7', 'dependence': 23.481873904215902}, {'label': '17.8', 'dependence': 23.46612775050485}, {'label': '17.9', 'dependence': 23.47247236728058}, {'label': '18', 'dependence': 23.478816994456572}, {'label': '18.1', 'dependence': 23.402452339582403}, {'label': '18.2', 'dependence': 23.408796956358135}, {'label': '18.3', 'dependence': 23.415141458730997}, {'label': '18.5', 'dependence': 23.42783069228246}, {'label': '18.6', 'dependence': 23.43417530905819}, {'label': '18.7', 'dependence': 23.44051992583392}, {'label': '18.8', 'dependence': 23.477311201990823}, {'label': '19', 'dependence': 23.490000456342806}, {'label': '19.2', 'dependence': 23.502689689894268}, {'label': '19.4', 'dependence': 23.5153787986426}, {'label': '19.5', 'dependence': 23.521723415418332}, {'label': '19.6', 'dependence': 23.56715321123506}, {'label': '19.9', 'dependence': 23.58618695755964}, {'label': '20.1', 'dependence': 23.598876191111103}, {'label': '20.4', 'dependence': 22.725753509926385}, {'label': '20.5', 'dependence': 22.732098126702112}, {'label': '20.7', 'dependence': 22.74478736025358}, {'label': '21', 'dependence': 22.76382108577764}, {'label': '21.5', 'dependence': 25.418942093634964}, {'label': '21.7', 'dependence': 25.43163132718643}, {'label': '21.8', 'dependence': 25.43797581915903}, {'label': 'nan', 'dependence': 23.16162754594565}]}, 'predicted_vs_actual': {'is_capped': True, 'data': [{'row_count': 4, 'label': '[ 11, 11.455 )', 'bin': ['11', '11.455'], 'predicted': 71.67097646344729, 'actual': 73.80000000000001}, {'row_count': 2, 'label': '[ 11.455, 11.91 )', 'bin': ['11.455', '11.91'], 'predicted': 22.880603108683708, 'actual': 28.0}, {'row_count': 2, 'label': '[ 11.91, 12.365 )', 'bin': ['11.91', '12.365'], 'predicted': 31.126394461926495, 'actual': 31.0}, {'row_count': 2, 'label': '[ 12.365, 12.82 )', 'bin': ['12.365', '12.82'], 'predicted': 55.24905262155894, 'actual': 49.7}, {'row_count': 1, 'label': '[ 12.82, 13.275 )', 'bin': ['12.82', '13.275'], 'predicted': 24.46115005698341, 'actual': 26.8}, {'row_count': 3, 'label': '[ 13.275, 13.73 )', 'bin': ['13.275', '13.73'], 'predicted': 64.31944462638567, 'actual': 57.0}, {'row_count': 5, 'label': '[ 13.73, 14.185 )', 'bin': ['13.73', '14.185'], 'predicted': 128.41108714841903, 'actual': 140.6}, {'row_count': 5, 'label': '[ 14.185, 14.64 )', 'bin': ['14.185', '14.64'], 'predicted': 145.4315673213792, 'actual': 147.0}, {'row_count': 5, 'label': '[ 14.64, 15.095 )', 'bin': ['14.64', '15.095'], 'predicted': 114.08103334925605, 'actual': 103.1}, {'row_count': 4, 'label': '[ 15.095, 15.55 )', 'bin': ['15.095', '15.55'], 'predicted': 85.19977552513215, 'actual': 86.1}, {'row_count': 5, 'label': '[ 15.55, 16.005 )', 'bin': ['15.55', '16.005'], 'predicted': 106.76376155445479, 'actual': 103.6}, {'row_count': 2, 'label': '[ 16.005, 16.46 )', 'bin': ['16.005', '16.46'], 'predicted': 60.96643928202518, 'actual': 56.6}, {'row_count': 4, 'label': '[ 16.46, 16.915 )', 'bin': ['16.46', '16.915'], 'predicted': 99.2481985517369, 'actual': 96.2}, {'row_count': 4, 'label': '[ 16.915, 17.37 )', 'bin': ['16.915', '17.37'], 'predicted': 84.23458918218476, 'actual': 85.0}, {'row_count': 5, 'label': '[ 17.37, 17.825 )', 'bin': ['17.37', '17.825'], 'predicted': 135.62379099816084, 'actual': 131.3}, {'row_count': 3, 'label': '[ 17.825, 18.28 )', 'bin': ['17.825', '18.28'], 'predicted': 77.28057853996344, 'actual': 85.0}, {'row_count': 1, 'label': '[ 18.28, 18.735 )', 'bin': ['18.28', '18.735'], 'predicted': 32.60754032337551, 'actual': 31.5}, {'row_count': 3, 'label': '[ 18.735, 19.19 )', 'bin': ['18.735', '19.19'], 'predicted': 56.022725323710524, 'actual': 58.6}, {'row_count': 0, 'label': '[ 19.19, 19.645 )', 'bin': ['19.19', '19.645'], 'predicted': None, 'actual': None}, {'row_count': 1, 'label': '[ 19.645, 20.1 ]', 'bin': ['19.645', '20.1'], 'predicted': 28.0978082310795, 'actual': 24.3}]}, 'weight_label': None, 'is_scalable': True, 'is_binnable': True}]"
      ]
     },
     "execution_count": 16,
     "metadata": {},
     "output_type": "execute_result"
    }
   ],
   "source": [
    "# The options for source are: training, validation and holdout\n",
    "feature_effects = recommended_model.get_or_request_feature_effect(source='validation')\n",
    "\n",
    "feature_effects"
   ]
  },
  {
   "cell_type": "code",
   "execution_count": 17,
   "id": "8601d7e6",
   "metadata": {},
   "outputs": [],
   "source": [
    "fe_variable = feature_effects.feature_effects[1]"
   ]
  },
  {
   "cell_type": "code",
   "execution_count": 21,
   "id": "8c906697",
   "metadata": {},
   "outputs": [
    {
     "data": {
      "text/plain": [
       "Text(0, 0.5, 'Target : (MPG)')"
      ]
     },
     "execution_count": 21,
     "metadata": {},
     "output_type": "execute_result"
    },
    {
     "data": {
      "image/png": "[encoded data removed]",
      "text/plain": [
       "<Figure size 640x480 with 1 Axes>"
      ]
     },
     "metadata": {},
     "output_type": "display_data"
    }
   ],
   "source": [
    "fe_variable_df = pd.DataFrame(fe_variable['partial_dependence']['data'])\n",
    "sns.lineplot(x = \"label\", y = \"dependence\", data=fe_variable_df)\n",
    "plt.xlabel(fe_variable['feature_name'])\n",
    "plt.ylabel('Target : (MPG)')"
   ]
  },
  {
   "cell_type": "code",
   "execution_count": 23,
   "id": "7a311b76",
   "metadata": {},
   "outputs": [
    {
     "data": {
      "text/plain": [
       "14"
      ]
     },
     "execution_count": 23,
     "metadata": {},
     "output_type": "execute_result"
    }
   ],
   "source": [
    "fe_variable_df.shape[0]"
   ]
  },
  {
   "cell_type": "code",
   "execution_count": null,
   "id": "60b46653",
   "metadata": {},
   "outputs": [],
   "source": []
  }
 ],
 "metadata": {
  "kernelspec": {
   "display_name": "Python 3",
   "language": "python",
   "name": "python3"
  },
  "language_info": {
   "codemirror_mode": {
    "name": "ipython",
    "version": 3
   },
   "file_extension": ".py",
   "mimetype": "text/x-python",
   "name": "python",
   "nbconvert_exporter": "python",
   "pygments_lexer": "ipython3",
   "version": "3.10.11"
  }
 },
 "nbformat": 4,
 "nbformat_minor": 5
}
