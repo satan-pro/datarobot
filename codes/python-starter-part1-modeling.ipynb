{
 "cells": [
  {
   "cell_type": "markdown",
   "metadata": {},
   "source": [
    "![title](datarobot.jpg)"
   ]
  },
  {
   "cell_type": "markdown",
   "metadata": {},
   "source": [
    "# DataRobot Python API Starter Activity \n",
    "# Part 1 — Modeling"
   ]
  },
  {
   "cell_type": "markdown",
   "metadata": {},
   "source": [
    "## Pre-requisites\n"
   ]
  },
  {
   "cell_type": "markdown",
   "metadata": {},
   "source": [
    "Before starting these exercises, be sure that you:\n",
    "- Install the [DataRobot Python client](https://docs.datarobot.com/en/docs/api/api-quickstart/index.html#install-the-client) in your Python environment\n",
    "- Install [`pandas`](https://pandas.pydata.org/pandas-docs/stable/getting_started/install.html) in your Python environment\n",
    "- Have access to a DataRobot account\n",
    "    - If you don't, you can create a [trial account](https://www.datarobot.com/trial/)\n",
    "    \n"
   ]
  },
  {
   "cell_type": "markdown",
   "metadata": {},
   "source": [
    "## Learning objectives\n",
    "\n",
    "By the end of this activity, you will be able to use Python to:\n",
    "\n",
    "- Connect your DataRobot client\n",
    "- Create a project\n",
    "- Set the target feature for a project\n",
    "- Start autopilot to build the default set of models\n",
    "- Deploy the recommended model\n",
    "- Request predictions in both batch and real-time modes\n"
   ]
  },
  {
   "cell_type": "markdown",
   "metadata": {},
   "source": [
    "## Activity Goal"
   ]
  },
  {
   "cell_type": "markdown",
   "metadata": {},
   "source": [
    "The goal in this activity is to predict the quality rating for a particular wine based on various characteristics of the wine, such as its acidity and alcohol and sugar content.\n",
    "\n",
    "We have provided you with a dataset containing characteristics (features) and ratings for hundreds of wines. Using DataRobot, you will train a model based on this dataset. Then you will pass a different set of wines and their characteristics to DataRobot, which will score the input data using the model and return a predicted value for each wine's quality.\n",
    "\n",
    "The wine data comes from the University of California, Irvine Machine Learning Repository: https://archive.ics.uci.edu/ml/datasets/wine+quality. \n",
    "\n",
    "Citation: *P. Cortez, A. Cerdeira, F. Almeida, T. Matos and J. Reis.\n",
    "Modeling wine preferences by data mining from physicochemical properties. In Decision Support Systems, Elsevier, 47(4):547-553, 2009.*"
   ]
  },
  {
   "cell_type": "markdown",
   "metadata": {},
   "source": [
    "---"
   ]
  },
  {
   "cell_type": "markdown",
   "metadata": {},
   "source": [
    "---"
   ]
  },
  {
   "cell_type": "markdown",
   "metadata": {},
   "source": [
    "**Tip**: Before you start running any code, we recommend you enable Jupyter interactive shell feature, which allows you to see all of the output a particular Jupyter cell produces rather than just the last output. This will be particularly helpful as you complete your exercises."
   ]
  },
  {
   "cell_type": "code",
   "execution_count": 7,
   "metadata": {},
   "outputs": [],
   "source": [
    "from IPython.core.interactiveshell import InteractiveShell\n",
    "InteractiveShell.ast_node_interactivity = \"all\""
   ]
  },
  {
   "cell_type": "markdown",
   "metadata": {},
   "source": [
    "## 1. Before you begin"
   ]
  },
  {
   "cell_type": "markdown",
   "metadata": {},
   "source": [
    "To use Python with DataRobot, you first need to establish a connection between your application or notebook and the DataRobot server. </br>\n",
    "\n",
    "**NOTE**: If you are using [DataRobot Notebooks](https://docs.datarobot.com/en/docs/dr-notebooks/index.html) you can skip this section."
   ]
  },
  {
   "cell_type": "markdown",
   "metadata": {},
   "source": [
    "### 1a. Follow these configuration steps, to start using DataRobot via Python"
   ]
  },
  {
   "cell_type": "markdown",
   "metadata": {},
   "source": [
    "To use Python with DataRobot, you first need to establish a connection between your application or notebook and the DataRobot server. </br>\n",
    "This requires the following steps: </br> &nbsp;&nbsp;&nbsp;&nbsp;&nbsp;&nbsp;i. Gather your DataRobot application <b>endpoint URL</b> </br> &nbsp;&nbsp;&nbsp;&nbsp;&nbsp;&nbsp;ii. Gather the <b>API access token</b> for your DataRobot account </br> &nbsp;&nbsp;&nbsp;&nbsp;&nbsp;&nbsp;iii. Save 1 & 2 for your notebook to access"
   ]
  },
  {
   "cell_type": "markdown",
   "metadata": {},
   "source": [
    "<b>Finding your endpoint URL: <b>\n",
    "* Your [endpoint](https://docs.datarobot.com/en/docs/api/api-quickstart/index.html#retrieve-the-api-endpoint) URL depends on the type of your DataRobot account:\n",
    "\n",
    "    * If you have a US **Managed AI Cloud** account: use `https://app.datarobot.com/api/v2`\n",
    "\n",
    "    * If you have a European **Managed AI Cloud** account: use `https://app.eu.datarobot.com/api/v2`\n",
    "    \n",
    "    * If you are on a **self-managed or on-premises system**, find the host name you use to access your DataRobot account and use `https://<your-host-name>/api/v2`\n"
   ]
  },
  {
   "cell_type": "markdown",
   "metadata": {},
   "source": [
    "<b>Finding your API access token </b>\n",
    "    \n",
    "* To retrieve your access token, log into your DataRobot application account, and then select **Profile Settings** (top right icon) -> **Developer Tools**. Create a new API token here if you haven't created one already.\n",
    "\n",
    "* See [here](https://docs.datarobot.com/en/docs/api/api-quickstart/index.html#create-a-datarobot-api-key) for a visual guide in the documentation\n",
    "\n",
    "* See [this video](https://datarobot.wistia.com/medias/29y85hz4qw) for a guide "
   ]
  },
  {
   "cell_type": "markdown",
   "metadata": {},
   "source": [
    "<b>Save your credentials for your notebook to access </b>\n",
    "\n",
    "* You can specify your credentials in [a number of ways](https://docs.datarobot.com/en/docs/api/api-quickstart/index.html#configure-api-authentication). \n",
    "* For this activity, specify them in the provided file called `drconfig.yaml`, which should be in the same directory as this Jupyter notebook.\n",
    "* The `.yaml` file is a text file containing two lines. Edit the file to add your credentials and save the file.\n",
    "\n",
    "`token: \"<YOUR_API_TOKEN>\"`  \n",
    "`endpoint: \"<YOUR_ENDPOINT>\"`\n"
   ]
  },
  {
   "cell_type": "markdown",
   "metadata": {},
   "source": [
    "You will use this .yaml file you just prepared in step 3 below"
   ]
  },
  {
   "cell_type": "markdown",
   "metadata": {},
   "source": [
    "### 1b. Jupyter Notebook Tip: "
   ]
  },
  {
   "cell_type": "markdown",
   "metadata": {},
   "source": [
    "Before you start running any code, we recommend you enable Jupyter interactive shell feature, which allows you to see all of the output a particular Jupyter cell produces rather than just the last output. This will be particularly helpful as you complete your exercises."
   ]
  },
  {
   "cell_type": "code",
   "execution_count": 8,
   "metadata": {},
   "outputs": [],
   "source": [
    "from IPython.core.interactiveshell import InteractiveShell\n",
    "InteractiveShell.ast_node_interactivity = \"all\""
   ]
  },
  {
   "cell_type": "markdown",
   "metadata": {},
   "source": [
    "---"
   ]
  },
  {
   "cell_type": "markdown",
   "metadata": {},
   "source": [
    "## 2. Import libraries"
   ]
  },
  {
   "cell_type": "markdown",
   "metadata": {},
   "source": [
    "The DataRobot Python API package is called `datarobot`. Take a look at the [API documentation](https://datarobot-public-api-client.readthedocs-hosted.com/en/latest-release/index.html), and keep this page open so that you can refer to the documentation throughout the lesson.\n",
    "\n",
    "For convenience, import it using the identifier `dr`."
   ]
  },
  {
   "cell_type": "code",
   "execution_count": 9,
   "metadata": {
    "code_folding": []
   },
   "outputs": [],
   "source": [
    "import datarobot as dr"
   ]
  },
  {
   "cell_type": "markdown",
   "metadata": {},
   "source": [
    "This activity uses the Python `pandas` data analysis package. You do not have to use `pandas` to use the DataRobot Python API, but it is a convenient way to work with datasets, so we will use it here."
   ]
  },
  {
   "cell_type": "code",
   "execution_count": 10,
   "metadata": {},
   "outputs": [],
   "source": [
    "import pandas as pd"
   ]
  },
  {
   "cell_type": "markdown",
   "metadata": {},
   "source": [
    "## 3. Connect the application or notebook to DataRobot"
   ]
  },
  {
   "cell_type": "markdown",
   "metadata": {},
   "source": [
    "Next, in order for your client to connect to DataRobot, you need to [create and configure](https://datarobot-public-api-client.readthedocs-hosted.com/en/latest-release/autodoc/api_reference.html#module-datarobot.client) a global `Client` object, which will be used by any Python Client API calls that need to connect to the DataRobot server.  \n",
    "\n",
    "Now create a new `Client` object based on the credentials in the configuration YAML file you edited above."
   ]
  },
  {
   "cell_type": "markdown",
   "metadata": {},
   "source": [
    "**NOTE**: If you are using [DataRobot Notebooks](https://docs.datarobot.com/en/docs/dr-notebooks/index.html) you can skip this."
   ]
  },
  {
   "cell_type": "code",
   "execution_count": 11,
   "metadata": {
    "code_folding": []
   },
   "outputs": [
    {
     "data": {
      "text/plain": [
       "<datarobot.rest.RESTClientObject at 0x1e3efb87b90>"
      ]
     },
     "execution_count": 11,
     "metadata": {},
     "output_type": "execute_result"
    }
   ],
   "source": [
    "# Remove or comment out this line if you are using DataRobot Notebooks\n",
    "dr.Client(config_path = 'drconfig.yaml')"
   ]
  },
  {
   "cell_type": "markdown",
   "metadata": {},
   "source": [
    "***"
   ]
  },
  {
   "cell_type": "markdown",
   "metadata": {},
   "source": [
    "## 4. Import & explore the training data using [pandas](https://pandas.pydata.org/)"
   ]
  },
  {
   "cell_type": "markdown",
   "metadata": {},
   "source": [
    "Create a pandas DataFrame based on the wine quality training dataset we've provided and view the first few rows.\n",
    "\n",
    "**NOTE**: If you are using DataRobot Notebooks, you can create the dataframe with:  \n",
    "```\n",
    "trainingData = pd.read_csv('https://datarobot.box.com/shared/static/3r98mr6joss5h1shmytcxeqseihc6ic7.csv')\n",
    "```"
   ]
  },
  {
   "cell_type": "code",
   "execution_count": 12,
   "metadata": {
    "code_folding": []
   },
   "outputs": [
    {
     "data": {
      "text/html": [
       "<div>\n",
       "<style scoped>\n",
       "    .dataframe tbody tr th:only-of-type {\n",
       "        vertical-align: middle;\n",
       "    }\n",
       "\n",
       "    .dataframe tbody tr th {\n",
       "        vertical-align: top;\n",
       "    }\n",
       "\n",
       "    .dataframe thead th {\n",
       "        text-align: right;\n",
       "    }\n",
       "</style>\n",
       "<table border=\"1\" class=\"dataframe\">\n",
       "  <thead>\n",
       "    <tr style=\"text-align: right;\">\n",
       "      <th></th>\n",
       "      <th>fixed acidity</th>\n",
       "      <th>volatile acidity</th>\n",
       "      <th>citric acid</th>\n",
       "      <th>residual sugar</th>\n",
       "      <th>chlorides</th>\n",
       "      <th>free sulfur dioxide</th>\n",
       "      <th>total sulfur dioxide</th>\n",
       "      <th>density</th>\n",
       "      <th>pH</th>\n",
       "      <th>sulphates</th>\n",
       "      <th>alcohol</th>\n",
       "      <th>quality</th>\n",
       "    </tr>\n",
       "  </thead>\n",
       "  <tbody>\n",
       "    <tr>\n",
       "      <th>0</th>\n",
       "      <td>7.0</td>\n",
       "      <td>0.27</td>\n",
       "      <td>0.36</td>\n",
       "      <td>20.7</td>\n",
       "      <td>0.045</td>\n",
       "      <td>45.0</td>\n",
       "      <td>170.0</td>\n",
       "      <td>1.0010</td>\n",
       "      <td>3.00</td>\n",
       "      <td>0.45</td>\n",
       "      <td>8.8</td>\n",
       "      <td>6</td>\n",
       "    </tr>\n",
       "    <tr>\n",
       "      <th>1</th>\n",
       "      <td>6.3</td>\n",
       "      <td>0.30</td>\n",
       "      <td>0.34</td>\n",
       "      <td>1.6</td>\n",
       "      <td>0.049</td>\n",
       "      <td>14.0</td>\n",
       "      <td>132.0</td>\n",
       "      <td>0.9940</td>\n",
       "      <td>3.30</td>\n",
       "      <td>0.49</td>\n",
       "      <td>9.5</td>\n",
       "      <td>6</td>\n",
       "    </tr>\n",
       "    <tr>\n",
       "      <th>2</th>\n",
       "      <td>8.1</td>\n",
       "      <td>0.28</td>\n",
       "      <td>0.40</td>\n",
       "      <td>6.9</td>\n",
       "      <td>0.050</td>\n",
       "      <td>30.0</td>\n",
       "      <td>97.0</td>\n",
       "      <td>0.9951</td>\n",
       "      <td>3.26</td>\n",
       "      <td>0.44</td>\n",
       "      <td>10.1</td>\n",
       "      <td>6</td>\n",
       "    </tr>\n",
       "    <tr>\n",
       "      <th>3</th>\n",
       "      <td>7.2</td>\n",
       "      <td>0.23</td>\n",
       "      <td>0.32</td>\n",
       "      <td>8.5</td>\n",
       "      <td>0.058</td>\n",
       "      <td>47.0</td>\n",
       "      <td>186.0</td>\n",
       "      <td>0.9956</td>\n",
       "      <td>3.19</td>\n",
       "      <td>0.40</td>\n",
       "      <td>9.9</td>\n",
       "      <td>6</td>\n",
       "    </tr>\n",
       "    <tr>\n",
       "      <th>4</th>\n",
       "      <td>7.2</td>\n",
       "      <td>0.23</td>\n",
       "      <td>0.32</td>\n",
       "      <td>8.5</td>\n",
       "      <td>0.058</td>\n",
       "      <td>47.0</td>\n",
       "      <td>186.0</td>\n",
       "      <td>0.9956</td>\n",
       "      <td>3.19</td>\n",
       "      <td>0.40</td>\n",
       "      <td>9.9</td>\n",
       "      <td>6</td>\n",
       "    </tr>\n",
       "  </tbody>\n",
       "</table>\n",
       "</div>"
      ],
      "text/plain": [
       "   fixed acidity  volatile acidity  citric acid  residual sugar  chlorides  \\\n",
       "0            7.0              0.27         0.36            20.7      0.045   \n",
       "1            6.3              0.30         0.34             1.6      0.049   \n",
       "2            8.1              0.28         0.40             6.9      0.050   \n",
       "3            7.2              0.23         0.32             8.5      0.058   \n",
       "4            7.2              0.23         0.32             8.5      0.058   \n",
       "\n",
       "   free sulfur dioxide  total sulfur dioxide  density    pH  sulphates  \\\n",
       "0                 45.0                 170.0   1.0010  3.00       0.45   \n",
       "1                 14.0                 132.0   0.9940  3.30       0.49   \n",
       "2                 30.0                  97.0   0.9951  3.26       0.44   \n",
       "3                 47.0                 186.0   0.9956  3.19       0.40   \n",
       "4                 47.0                 186.0   0.9956  3.19       0.40   \n",
       "\n",
       "   alcohol  quality  \n",
       "0      8.8        6  \n",
       "1      9.5        6  \n",
       "2     10.1        6  \n",
       "3      9.9        6  \n",
       "4      9.9        6  "
      ]
     },
     "execution_count": 12,
     "metadata": {},
     "output_type": "execute_result"
    }
   ],
   "source": [
    "trainingData = pd.read_csv('./datasets/winequality-white-training.csv')\n",
    "trainingData.head()"
   ]
  },
  {
   "cell_type": "markdown",
   "metadata": {},
   "source": [
    "---"
   ]
  },
  {
   "cell_type": "markdown",
   "metadata": {},
   "source": [
    "## 5. Training Models with DataRobot"
   ]
  },
  {
   "cell_type": "markdown",
   "metadata": {},
   "source": [
    "### 5a. Create a DataRobot project to begin modeling\n"
   ]
  },
  {
   "cell_type": "markdown",
   "metadata": {},
   "source": [
    "A [`Project`](https://datarobot-public-api-client.readthedocs-hosted.com/en/v2.25.0/entities/project.html) object contains a dataset as well as the models trained from that dataset. You need a project before you can build a model.\n",
    "\n",
    "Every project requires a name. Here we set a project name that includes the creation date  a project to help easily distinguish projects from one another. \n"
   ]
  },
  {
   "cell_type": "code",
   "execution_count": 13,
   "metadata": {
    "code_folding": []
   },
   "outputs": [
    {
     "data": {
      "text/plain": [
       "'Python wine quality 2025-06-09'"
      ]
     },
     "execution_count": 13,
     "metadata": {},
     "output_type": "execute_result"
    }
   ],
   "source": [
    "from datetime import date\n",
    "projectName = 'Python wine quality ' + date.today().strftime(format = \"%Y-%m-%d\")\n",
    "projectName"
   ]
  },
  {
   "cell_type": "markdown",
   "metadata": {},
   "source": [
    "There are a number of ways to create a project. Here we use the `Project.create` method, passing the DataFrame created above and the name. When you create a project, it uploads the dataset to DataRobot and performs the initial [exploratory data analysis](https://app.datarobot.com/docs/modeling/reference/model-detail/eda-explained.html#eda1); the operation may take a minute to complete. \n",
    "\n",
    "**Tip**: position the cursor after `dr.Project` and use `SHIFT+TAB+TAB` to view the various attributes of a `Project` object."
   ]
  },
  {
   "cell_type": "code",
   "execution_count": 14,
   "metadata": {
    "code_folding": []
   },
   "outputs": [
    {
     "name": "stdout",
     "output_type": "stream",
     "text": [
      "6845d71fa05ad2afbacf0d91 Python wine quality 2025-06-09\n"
     ]
    }
   ],
   "source": [
    "project = dr.Project.create (\n",
    "    sourcedata = trainingData,\n",
    "    project_name = projectName\n",
    ")\n",
    "\n",
    "print(project.id, project.project_name)"
   ]
  },
  {
   "cell_type": "markdown",
   "metadata": {},
   "source": [
    "Your work in the API is reflected in the GUI as well. For any project created via the API, you can print the hyperlink to take you directly to the project in the GUI. If you leave this page open, you can return to it to view and verify the results of your work using the API."
   ]
  },
  {
   "cell_type": "code",
   "execution_count": 15,
   "metadata": {},
   "outputs": [
    {
     "data": {
      "text/plain": [
       "'https://app.datarobot.com/projects/6845d71fa05ad2afbacf0d91/models'"
      ]
     },
     "execution_count": 15,
     "metadata": {},
     "output_type": "execute_result"
    }
   ],
   "source": [
    "project.get_uri()"
   ]
  },
  {
   "cell_type": "markdown",
   "metadata": {},
   "source": [
    "`Project` objects give you many ways to explore and interact with projects and datasets. Going into depth on these capabilities is beyond the scope of this activity, but as an example, try viewing the project's list of features."
   ]
  },
  {
   "cell_type": "code",
   "execution_count": 16,
   "metadata": {},
   "outputs": [
    {
     "data": {
      "text/plain": [
       "[Feature(alcohol),\n",
       " Feature(chlorides),\n",
       " Feature(citric acid),\n",
       " Feature(density),\n",
       " Feature(fixed acidity),\n",
       " Feature(free sulfur dioxide),\n",
       " Feature(pH),\n",
       " Feature(quality),\n",
       " Feature(residual sugar),\n",
       " Feature(sulphates),\n",
       " Feature(total sulfur dioxide),\n",
       " Feature(volatile acidity)]"
      ]
     },
     "execution_count": 16,
     "metadata": {},
     "output_type": "execute_result"
    }
   ],
   "source": [
    "project.get_features()"
   ]
  },
  {
   "cell_type": "markdown",
   "metadata": {},
   "source": [
    "### 5b. Build models for the project"
   ]
  },
  {
   "cell_type": "markdown",
   "metadata": {},
   "source": [
    "Now that you have the data uploaded, you can start DataRobot Autopilot to perform the [second round of exploratory data analysis](https://app.datarobot.com/docs/modeling/reference/model-detail/eda-explained.html#eda2) and [train an initial set of models](https://app.datarobot.com/docs/modeling/reference/model-detail/model-ref.html)"
   ]
  },
  {
   "cell_type": "markdown",
   "metadata": {},
   "source": [
    "There are a number of ways start the modeling process. Here we use `.analyze_and_model()` method.\n",
    "This tells DataRobot which feature to use as the target feature -- that is, the feature the models will predict.\n",
    "\n",
    "Autopilot runs asynchronously. It takes about a minute to kick off Autopilot, after which the API call will return, but Autopilot keeps running."
   ]
  },
  {
   "cell_type": "markdown",
   "metadata": {},
   "source": [
    "By default, this starts Autopilot using [\"quick\" mode](https://app.datarobot.com/docs/modeling/reference/model-detail/model-ref.html#quick-autopilot), which builds a limited set of common models based\n",
    "on the informative features of the data."
   ]
  },
  {
   "cell_type": "code",
   "execution_count": 17,
   "metadata": {},
   "outputs": [
    {
     "data": {
      "text/plain": [
       "Project(Python wine quality 2025-06-09)"
      ]
     },
     "execution_count": 17,
     "metadata": {},
     "output_type": "execute_result"
    }
   ],
   "source": [
    "project.analyze_and_model(target = 'quality')"
   ]
  },
  {
   "cell_type": "markdown",
   "metadata": {},
   "source": [
    "_Optional_: Use the hyperlink from above to open project in the DataRobot web UI and click the **Models** tab. This will display the models that have been built so far and show the Autopilot status on the right."
   ]
  },
  {
   "cell_type": "markdown",
   "metadata": {},
   "source": [
    "\n",
    "You can track the Autopilot process in your notebook using `wait_for_autopilot`, which blocks the application until the models are complete.\n",
    "\n",
    "The process can take a little time."
   ]
  },
  {
   "cell_type": "code",
   "execution_count": 18,
   "metadata": {},
   "outputs": [
    {
     "name": "stdout",
     "output_type": "stream",
     "text": [
      "In progress: 2, queued: 6 (waited: 0s)\n",
      "In progress: 2, queued: 6 (waited: 1s)\n",
      "In progress: 2, queued: 6 (waited: 3s)\n",
      "In progress: 2, queued: 6 (waited: 4s)\n",
      "In progress: 2, queued: 6 (waited: 6s)\n",
      "In progress: 2, queued: 6 (waited: 9s)\n",
      "In progress: 2, queued: 6 (waited: 13s)\n",
      "In progress: 2, queued: 6 (waited: 21s)\n",
      "In progress: 2, queued: 4 (waited: 35s)\n",
      "In progress: 2, queued: 4 (waited: 56s)\n",
      "In progress: 2, queued: 2 (waited: 77s)\n",
      "In progress: 2, queued: 2 (waited: 98s)\n",
      "In progress: 2, queued: 0 (waited: 119s)\n",
      "In progress: 2, queued: 0 (waited: 141s)\n",
      "In progress: 2, queued: 14 (waited: 162s)\n",
      "In progress: 2, queued: 14 (waited: 183s)\n",
      "In progress: 2, queued: 12 (waited: 204s)\n",
      "In progress: 1, queued: 12 (waited: 225s)\n",
      "In progress: 1, queued: 10 (waited: 247s)\n",
      "In progress: 2, queued: 9 (waited: 268s)\n",
      "In progress: 2, queued: 7 (waited: 289s)\n",
      "In progress: 1, queued: 6 (waited: 310s)\n",
      "In progress: 1, queued: 5 (waited: 331s)\n",
      "In progress: 2, queued: 3 (waited: 353s)\n",
      "In progress: 1, queued: 3 (waited: 374s)\n",
      "In progress: 0, queued: 3 (waited: 395s)\n",
      "In progress: 0, queued: 3 (waited: 416s)\n",
      "In progress: 2, queued: 1 (waited: 437s)\n",
      "In progress: 0, queued: 1 (waited: 458s)\n",
      "In progress: 1, queued: 0 (waited: 479s)\n",
      "In progress: 0, queued: 0 (waited: 501s)\n",
      "In progress: 0, queued: 0 (waited: 522s)\n",
      "In progress: 0, queued: 0 (waited: 543s)\n",
      "In progress: 0, queued: 0 (waited: 564s)\n",
      "In progress: 1, queued: 0 (waited: 585s)\n",
      "In progress: 1, queued: 0 (waited: 606s)\n",
      "In progress: 0, queued: 0 (waited: 628s)\n",
      "In progress: 0, queued: 0 (waited: 649s)\n",
      "In progress: 0, queued: 0 (waited: 670s)\n"
     ]
    }
   ],
   "source": [
    "project.wait_for_autopilot()"
   ]
  },
  {
   "cell_type": "markdown",
   "metadata": {},
   "source": [
    "*Optional*: While you wait, use the hyperlink from above to view the project in the Web UI and select **Models**, where can see the models that have been built so far as they complete."
   ]
  },
  {
   "cell_type": "markdown",
   "metadata": {},
   "source": [
    "---"
   ]
  },
  {
   "cell_type": "markdown",
   "metadata": {},
   "source": [
    "While you are waiting, _go back to the main course content_, and we'll meet back here in about 15 minutes."
   ]
  },
  {
   "cell_type": "markdown",
   "metadata": {},
   "source": [
    "*When Autopilot is finished, you are ready to open the Part 2 notebook to complete the activity.*"
   ]
  }
 ],
 "metadata": {
  "kernelspec": {
   "display_name": "Python 3",
   "language": "python",
   "name": "python3"
  },
  "language_info": {
   "codemirror_mode": {
    "name": "ipython",
    "version": 3
   },
   "file_extension": ".py",
   "mimetype": "text/x-python",
   "name": "python",
   "nbconvert_exporter": "python",
   "pygments_lexer": "ipython3",
   "version": "3.12.0"
  },
  "toc": {
   "base_numbering": 1,
   "nav_menu": {},
   "number_sections": true,
   "sideBar": true,
   "skip_h1_title": false,
   "title_cell": "Table of Contents",
   "title_sidebar": "Contents",
   "toc_cell": false,
   "toc_position": {},
   "toc_section_display": true,
   "toc_window_display": false
  }
 },
 "nbformat": 4,
 "nbformat_minor": 4
}
